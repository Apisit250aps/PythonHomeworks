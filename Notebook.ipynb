{
 "cells": [
  {
   "cell_type": "code",
   "execution_count": null,
   "metadata": {},
   "outputs": [],
   "source": [
    "getName = str(input(\"What's your name? : \")).split(\" \")\n",
    "name = getName[0].capitalize()\n",
    "surname = getName[1].capitalize()\n",
    "print(f\"Nice to meet you {name} {surname}\")\n",
    "\n",
    "print(\"Nice to meet you {} {}\".format(name, surname))"
   ]
  },
  {
   "cell_type": "code",
   "execution_count": 13,
   "metadata": {},
   "outputs": [
    {
     "name": "stdout",
     "output_type": "stream",
     "text": [
      "3\n"
     ]
    }
   ],
   "source": [
    "number = int(input(\"Enter your number :\"))\n",
    "\n",
    "result = number - 2\n",
    "\n",
    "print(result)"
   ]
  },
  {
   "cell_type": "code",
   "execution_count": null,
   "metadata": {},
   "outputs": [],
   "source": [
    "students = ['เจษฎา', 'ชนะไชย์', 'NaN', 'NaN', 'NaN', 'NaN', 'NaN', 'NaN', 'สายฟ้า', 'อนุชา', 'อภิสิทธิ์', 'NaN', 'NaN', 'พิยดา', 'NaN', 'NaN', 'รัชชานนท์']\n",
    "for i in range(17):\n",
    "    print(\"stu6512732{}@sskru.ac.th - {}\".format((101+i), students[i]))"
   ]
  },
  {
   "cell_type": "code",
   "execution_count": null,
   "metadata": {},
   "outputs": [],
   "source": [
    "__PI = 3.14545667893837\n",
    "\n",
    "print(f\"PI = {__PI:.2f}\")\n",
    "print(f\"PI = {__PI:.3f}\")\n"
   ]
  },
  {
   "cell_type": "code",
   "execution_count": 7,
   "metadata": {},
   "outputs": [
    {
     "name": "stdout",
     "output_type": "stream",
     "text": [
      "Apple --- price    5 bath\n",
      "Mango --- price 4.50 bath\n"
     ]
    }
   ],
   "source": [
    "print(\"{0} --- price {1:4} bath\\n{2} --- price {3:4.2f} bath\".format('Apple', 5, 'Mango', 4.5))"
   ]
  }
 ],
 "metadata": {
  "kernelspec": {
   "display_name": "Python 3.9.13 ('base')",
   "language": "python",
   "name": "python3"
  },
  "language_info": {
   "codemirror_mode": {
    "name": "ipython",
    "version": 3
   },
   "file_extension": ".py",
   "mimetype": "text/x-python",
   "name": "python",
   "nbconvert_exporter": "python",
   "pygments_lexer": "ipython3",
   "version": "3.9.13"
  },
  "orig_nbformat": 4,
  "vscode": {
   "interpreter": {
    "hash": "8dbfe8ea527ffa732f21a51919d6499f5cbcfb30e407fe9387ce931a37af0535"
   }
  }
 },
 "nbformat": 4,
 "nbformat_minor": 2
}
