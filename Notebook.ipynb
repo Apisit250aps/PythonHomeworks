{
 "cells": [
  {
   "cell_type": "code",
   "execution_count": null,
   "metadata": {},
   "outputs": [],
   "source": [
    "getName = str(input(\"What's your name? : \")).split(\" \")\n",
    "name = getName[0].capitalize()\n",
    "surname = getName[1].capitalize()\n",
    "print(f\"Nice to meet you {name} {surname}\")\n",
    "\n",
    "print(\"Nice to meet you {} {}\".format(name, surname))"
   ]
  },
  {
   "cell_type": "code",
   "execution_count": 13,
   "metadata": {},
   "outputs": [
    {
     "name": "stdout",
     "output_type": "stream",
     "text": [
      "3\n"
     ]
    }
   ],
   "source": [
    "number = int(input(\"Enter your number :\"))\n",
    "\n",
    "result = number - 2\n",
    "\n",
    "print(result)"
   ]
  },
  {
   "cell_type": "code",
   "execution_count": 34,
   "metadata": {},
   "outputs": [
    {
     "name": "stdout",
     "output_type": "stream",
     "text": [
      "stu6512732101@sskru.ac.th - เจษฎา\n",
      "stu6512732102@sskru.ac.th - ชนะไชย์\n",
      "stu6512732103@sskru.ac.th - NaN\n",
      "stu6512732104@sskru.ac.th - NaN\n",
      "stu6512732105@sskru.ac.th - NaN\n",
      "stu6512732106@sskru.ac.th - NaN\n",
      "stu6512732107@sskru.ac.th - NaN\n",
      "stu6512732108@sskru.ac.th - NaN\n",
      "stu6512732109@sskru.ac.th - สายฟ้า\n",
      "stu6512732110@sskru.ac.th - อนุชา\n",
      "stu6512732111@sskru.ac.th - อภิสิทธิ์\n",
      "stu6512732112@sskru.ac.th - NaN\n",
      "stu6512732113@sskru.ac.th - NaN\n",
      "stu6512732114@sskru.ac.th - พิยดา\n",
      "stu6512732115@sskru.ac.th - NaN\n",
      "stu6512732116@sskru.ac.th - NaN\n",
      "stu6512732117@sskru.ac.th - รัชชานนท์\n"
     ]
    }
   ],
   "source": [
    "students = ['เจษฎา', 'ชนะไชย์', 'NaN', 'NaN', 'NaN', 'NaN', 'NaN', 'NaN', 'สายฟ้า', 'อนุชา', 'อภิสิทธิ์', 'NaN', 'NaN', 'พิยดา', 'NaN', 'NaN', 'รัชชานนท์']\n",
    "for i in range(17):\n",
    "    print(\"stu6512732{}@sskru.ac.th - {}\".format((101+i), students[i]))"
   ]
  },
  {
   "cell_type": "code",
   "execution_count": null,
   "metadata": {},
   "outputs": [],
   "source": [
    "__PI = 3.14545667893837\n",
    "\n",
    "print(f\"PI = {__PI:.2f}\")\n",
    "print(f\"PI = {__PI:.3f}\")\n"
   ]
  },
  {
   "cell_type": "code",
   "execution_count": 7,
   "metadata": {},
   "outputs": [
    {
     "name": "stdout",
     "output_type": "stream",
     "text": [
      "Apple --- price    5 bath\n",
      "Mango --- price 4.50 bath\n"
     ]
    }
   ],
   "source": [
    "print(\"{0} --- price {1:4} bath\\n{2} --- price {3:4.2f} bath\".format('Apple', 5, 'Mango', 4.5))"
   ]
  },
  {
   "cell_type": "markdown",
   "metadata": {},
   "source": [
    "List"
   ]
  },
  {
   "cell_type": "code",
   "execution_count": 5,
   "metadata": {},
   "outputs": [
    {
     "data": {
      "text/plain": [
       "90"
      ]
     },
     "execution_count": 5,
     "metadata": {},
     "output_type": "execute_result"
    }
   ],
   "source": [
    "import numpy as np\n",
    "p = 0\n",
    "for i in range(100, 1001):\n",
    "    if str(i) == str(i)[::-1]:\n",
    "        p += 1\n",
    "    \n",
    "p\n"
   ]
  },
  {
   "cell_type": "code",
   "execution_count": 17,
   "metadata": {},
   "outputs": [
    {
     "data": {
      "text/plain": [
       "300"
      ]
     },
     "execution_count": 17,
     "metadata": {},
     "output_type": "execute_result"
    }
   ],
   "source": [
    "cot = 0\n",
    "fi = '8'\n",
    "for i in range(1000):\n",
    "    for o in str(i):\n",
    "        if o == fi:\n",
    "            cot += 1\n",
    "       \n",
    "cot \n"
   ]
  },
  {
   "cell_type": "markdown",
   "metadata": {},
   "source": [
    "Tuple\n"
   ]
  },
  {
   "cell_type": "code",
   "execution_count": null,
   "metadata": {},
   "outputs": [],
   "source": [
    "tple = tuple(range(100))\n",
    "for i in tple:\n",
    "    print(i)"
   ]
  },
  {
   "cell_type": "code",
   "execution_count": 20,
   "metadata": {},
   "outputs": [
    {
     "data": {
      "text/plain": [
       "tuple"
      ]
     },
     "execution_count": 20,
     "metadata": {},
     "output_type": "execute_result"
    }
   ],
   "source": [
    "myname = \"Apisit\"\n",
    "tp = tuple(myname)\n",
    "type(tp)"
   ]
  },
  {
   "cell_type": "markdown",
   "metadata": {},
   "source": [
    "Dictionary"
   ]
  },
  {
   "cell_type": "code",
   "execution_count": 60,
   "metadata": {},
   "outputs": [
    {
     "data": {
      "text/plain": [
       "{'fname': 'Apisit', 'lname': 'Saithong'}"
      ]
     },
     "execution_count": 60,
     "metadata": {},
     "output_type": "execute_result"
    }
   ],
   "source": [
    "my_students = {\n",
    "    \"6512732101\":{\n",
    "        \"fname\":\"Jetsada\",\n",
    "        \"lname\":\"tonsri\"\n",
    "    },\n",
    "    \"6512732111\":{\n",
    "        \"fname\":\"Apisit\",\n",
    "        \"lname\":\"Saithong\"\n",
    "        \n",
    "    },\n",
    "    \"6512732102\":{\n",
    "        \"fname\":\"Chanachai\",\n",
    "        \"lname\":\"ruedsongkram\"\n",
    "    }\n",
    "    \n",
    "}\n",
    "\n",
    "my_students.get(\"6512732111\")"
   ]
  },
  {
   "cell_type": "markdown",
   "metadata": {},
   "source": [
    "Expression"
   ]
  },
  {
   "cell_type": "markdown",
   "metadata": {},
   "source": [
    "- ทางการดำเนินการ\n",
    "- การกำหนดค่า\n",
    "- การเปรียบเทียบ\n",
    "- ทางตรรกะ\n",
    "\n",
    "\n",
    "// การดำเนินการ + - * / %\n",
    "\n"
   ]
  },
  {
   "cell_type": "markdown",
   "metadata": {},
   "source": [
    "logic AND จะให้ผลลัพเป็น จริง เมื่อ ตัวดำเนินการเป็น จริง 100% "
   ]
  },
  {
   "cell_type": "markdown",
   "metadata": {},
   "source": [
    "logic OR จะให้ผลลัพเป็น เท็จ เมื่อ ตัวดำเนินการเป็น เท็จ 100%\n"
   ]
  },
  {
   "cell_type": "code",
   "execution_count": 61,
   "metadata": {},
   "outputs": [
    {
     "data": {
      "text/plain": [
       "55.5"
      ]
     },
     "execution_count": 61,
     "metadata": {},
     "output_type": "execute_result"
    }
   ],
   "source": [
    "60-6*5+(8+(10/4%2))*3"
   ]
  },
  {
   "cell_type": "code",
   "execution_count": 67,
   "metadata": {},
   "outputs": [
    {
     "name": "stdout",
     "output_type": "stream",
     "text": [
      "0\n",
      "100\n",
      "200\n",
      "300\n",
      "400\n",
      "500\n",
      "600\n",
      "700\n",
      "800\n",
      "900\n",
      "1000\n"
     ]
    }
   ],
   "source": [
    "for i in range(1010):\n",
    "    if i % 100 ==0:\n",
    "        print(i)\n",
    "        "
   ]
  },
  {
   "cell_type": "code",
   "execution_count": null,
   "metadata": {},
   "outputs": [],
   "source": [
    "from math import * \n"
   ]
  }
 ],
 "metadata": {
  "kernelspec": {
   "display_name": "Python 3.9.13 ('base')",
   "language": "python",
   "name": "python3"
  },
  "language_info": {
   "codemirror_mode": {
    "name": "ipython",
    "version": 3
   },
   "file_extension": ".py",
   "mimetype": "text/x-python",
   "name": "python",
   "nbconvert_exporter": "python",
   "pygments_lexer": "ipython3",
   "version": "3.9.13"
  },
  "orig_nbformat": 4,
  "vscode": {
   "interpreter": {
    "hash": "8dbfe8ea527ffa732f21a51919d6499f5cbcfb30e407fe9387ce931a37af0535"
   }
  }
 },
 "nbformat": 4,
 "nbformat_minor": 2
}
