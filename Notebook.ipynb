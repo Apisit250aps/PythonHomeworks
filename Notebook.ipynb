{
 "cells": [
  {
   "cell_type": "code",
   "execution_count": null,
   "metadata": {},
   "outputs": [],
   "source": [
    "getName = str(input(\"What's your name? : \")).split(\" \")\n",
    "name = getName[0].capitalize()\n",
    "surname = getName[1].capitalize()\n",
    "print(f\"Nice to meet you {name} {surname}\")\n",
    "\n",
    "print(\"Nice to meet you {} {}\".format(name, surname))"
   ]
  },
  {
   "cell_type": "code",
   "execution_count": 13,
   "metadata": {},
   "outputs": [
    {
     "name": "stdout",
     "output_type": "stream",
     "text": [
      "3\n"
     ]
    }
   ],
   "source": [
    "number = int(input(\"Enter your number :\"))\n",
    "\n",
    "result = number - 2\n",
    "\n",
    "print(result)"
   ]
  },
  {
   "cell_type": "code",
   "execution_count": 34,
   "metadata": {},
   "outputs": [
    {
     "name": "stdout",
     "output_type": "stream",
     "text": [
      "stu6512732101@sskru.ac.th - เจษฎา\n",
      "stu6512732102@sskru.ac.th - ชนะไชย์\n",
      "stu6512732103@sskru.ac.th - NaN\n",
      "stu6512732104@sskru.ac.th - NaN\n",
      "stu6512732105@sskru.ac.th - NaN\n",
      "stu6512732106@sskru.ac.th - NaN\n",
      "stu6512732107@sskru.ac.th - NaN\n",
      "stu6512732108@sskru.ac.th - NaN\n",
      "stu6512732109@sskru.ac.th - สายฟ้า\n",
      "stu6512732110@sskru.ac.th - อนุชา\n",
      "stu6512732111@sskru.ac.th - อภิสิทธิ์\n",
      "stu6512732112@sskru.ac.th - NaN\n",
      "stu6512732113@sskru.ac.th - NaN\n",
      "stu6512732114@sskru.ac.th - พิยดา\n",
      "stu6512732115@sskru.ac.th - NaN\n",
      "stu6512732116@sskru.ac.th - NaN\n",
      "stu6512732117@sskru.ac.th - รัชชานนท์\n"
     ]
    }
   ],
   "source": [
    "students = ['เจษฎา', 'ชนะไชย์', 'NaN', 'NaN', 'NaN', 'NaN', 'NaN', 'NaN', 'สายฟ้า', 'อนุชา', 'อภิสิทธิ์', 'NaN', 'NaN', 'พิยดา', 'NaN', 'NaN', 'รัชชานนท์']\n",
    "for i in range(17):\n",
    "    print(\"stu6512732{}@sskru.ac.th - {}\".format((101+i), students[i]))"
   ]
  },
  {
   "cell_type": "code",
   "execution_count": null,
   "metadata": {},
   "outputs": [],
   "source": [
    "__PI = 3.14545667893837\n",
    "\n",
    "print(f\"PI = {__PI:.2f}\")\n",
    "print(f\"PI = {__PI:.3f}\")\n"
   ]
  },
  {
   "cell_type": "code",
   "execution_count": 7,
   "metadata": {},
   "outputs": [
    {
     "name": "stdout",
     "output_type": "stream",
     "text": [
      "Apple --- price    5 bath\n",
      "Mango --- price 4.50 bath\n"
     ]
    }
   ],
   "source": [
    "print(\"{0} --- price {1:4} bath\\n{2} --- price {3:4.2f} bath\".format('Apple', 5, 'Mango', 4.5))"
   ]
  },
  {
   "cell_type": "markdown",
   "metadata": {},
   "source": [
    "List"
   ]
  },
  {
   "cell_type": "code",
   "execution_count": 5,
   "metadata": {},
   "outputs": [
    {
     "data": {
      "text/plain": [
       "90"
      ]
     },
     "execution_count": 5,
     "metadata": {},
     "output_type": "execute_result"
    }
   ],
   "source": [
    "import numpy as np\n",
    "p = 0\n",
    "for i in range(100, 1001):\n",
    "    if str(i) == str(i)[::-1]:\n",
    "        p += 1\n",
    "    \n",
    "p\n"
   ]
  },
  {
   "cell_type": "code",
   "execution_count": 17,
   "metadata": {},
   "outputs": [
    {
     "data": {
      "text/plain": [
       "300"
      ]
     },
     "execution_count": 17,
     "metadata": {},
     "output_type": "execute_result"
    }
   ],
   "source": [
    "cot = 0\n",
    "fi = '8'\n",
    "for i in range(1000):\n",
    "    for o in str(i):\n",
    "        if o == fi:\n",
    "            cot += 1\n",
    "       \n",
    "cot \n"
   ]
  },
  {
   "cell_type": "markdown",
   "metadata": {},
   "source": [
    "Tuple\n"
   ]
  },
  {
   "cell_type": "code",
   "execution_count": null,
   "metadata": {},
   "outputs": [],
   "source": [
    "tple = tuple(range(100))\n",
    "for i in tple:\n",
    "    print(i)"
   ]
  },
  {
   "cell_type": "code",
   "execution_count": 20,
   "metadata": {},
   "outputs": [
    {
     "data": {
      "text/plain": [
       "tuple"
      ]
     },
     "execution_count": 20,
     "metadata": {},
     "output_type": "execute_result"
    }
   ],
   "source": [
    "myname = \"Apisit\"\n",
    "tp = tuple(myname)\n",
    "type(tp)"
   ]
  },
  {
   "cell_type": "markdown",
   "metadata": {},
   "source": [
    "Dictionary"
   ]
  },
  {
   "cell_type": "code",
   "execution_count": 60,
   "metadata": {},
   "outputs": [
    {
     "data": {
      "text/plain": [
       "{'fname': 'Apisit', 'lname': 'Saithong'}"
      ]
     },
     "execution_count": 60,
     "metadata": {},
     "output_type": "execute_result"
    }
   ],
   "source": [
    "my_students = {\n",
    "    \"6512732101\":{\n",
    "        \"fname\":\"Jetsada\",\n",
    "        \"lname\":\"tonsri\"\n",
    "    },\n",
    "    \"6512732111\":{\n",
    "        \"fname\":\"Apisit\",\n",
    "        \"lname\":\"Saithong\"\n",
    "        \n",
    "    },\n",
    "    \"6512732102\":{\n",
    "        \"fname\":\"Chanachai\",\n",
    "        \"lname\":\"ruedsongkram\"\n",
    "    }\n",
    "    \n",
    "}\n",
    "\n",
    "my_students.get(\"6512732111\")"
   ]
  },
  {
   "cell_type": "markdown",
   "metadata": {},
   "source": [
    "Expression"
   ]
  },
  {
   "cell_type": "markdown",
   "metadata": {},
   "source": [
    "- ทางการดำเนินการ\n",
    "- การกำหนดค่า\n",
    "- การเปรียบเทียบ\n",
    "- ทางตรรกะ\n",
    "\n",
    "\n",
    "// การดำเนินการ + - * / %\n",
    "\n"
   ]
  },
  {
   "cell_type": "markdown",
   "metadata": {},
   "source": [
    "logic AND จะให้ผลลัพเป็น จริง เมื่อ ตัวดำเนินการเป็น จริง 100% "
   ]
  },
  {
   "cell_type": "markdown",
   "metadata": {},
   "source": [
    "logic OR จะให้ผลลัพเป็น เท็จ เมื่อ ตัวดำเนินการเป็น เท็จ 100%\n"
   ]
  },
  {
   "cell_type": "code",
   "execution_count": 61,
   "metadata": {},
   "outputs": [
    {
     "data": {
      "text/plain": [
       "55.5"
      ]
     },
     "execution_count": 61,
     "metadata": {},
     "output_type": "execute_result"
    }
   ],
   "source": [
    "60-6*5+(8+(10/4%2))*3"
   ]
  },
  {
   "cell_type": "code",
   "execution_count": null,
   "metadata": {},
   "outputs": [],
   "source": [
    "for i in range(1010):\n",
    "    if i % 100 ==0:\n",
    "        print(i)\n",
    "        "
   ]
  },
  {
   "cell_type": "code",
   "execution_count": null,
   "metadata": {},
   "outputs": [],
   "source": [
    "from math import * \n"
   ]
  },
  {
   "attachments": {},
   "cell_type": "markdown",
   "metadata": {},
   "source": [
    "บทที่ 7 : Control Structure"
   ]
  },
  {
   "attachments": {},
   "cell_type": "markdown",
   "metadata": {},
   "source": [
    "if ... else in python ?"
   ]
  },
  {
   "attachments": {},
   "cell_type": "markdown",
   "metadata": {},
   "source": [
    "flow control and control structure"
   ]
  },
  {
   "attachments": {},
   "cell_type": "markdown",
   "metadata": {},
   "source": [
    "\n",
    "โครงสร้างควบคุม แบบ เงื่อนไข if ... else\n",
    "    if test_expression:\n",
    "        statement(s)\n",
    "    else :\n",
    "        statement\n",
    "    \n",
    "\n",
    "\n"
   ]
  },
  {
   "cell_type": "code",
   "execution_count": 10,
   "metadata": {},
   "outputs": [
    {
     "name": "stdout",
     "output_type": "stream",
     "text": [
      "is Zero\n"
     ]
    }
   ],
   "source": [
    "num = 0\n",
    "if num >= 0:\n",
    "    if num ==0:\n",
    "        print(\"is Zero\")\n",
    "    else :\n",
    "        print(num, \"is positive number\")\n",
    "else :\n",
    "    print(num, \"is negative number\")\n"
   ]
  },
  {
   "cell_type": "code",
   "execution_count": 8,
   "metadata": {},
   "outputs": [
    {
     "name": "stdout",
     "output_type": "stream",
     "text": [
      "B\n"
     ]
    }
   ],
   "source": [
    "score = float(input(\"Score : \"))\n",
    "\n",
    "'''\n",
    "A : 100 - 80\n",
    "B : 79 - 70\n",
    "C : 69 - 60\n",
    "D : 59 - 50\n",
    "E : 49 - 0\n",
    "'''\n",
    "\n",
    "if score >= 80:\n",
    "    print(\"A\")\n",
    "elif score >= 70:\n",
    "    print(\"B\")\n",
    "elif score > 60:\n",
    "    print(\"C\")\n",
    "elif score >= 50:\n",
    "    print(\"D\")\n",
    "else :\n",
    "    print(\"E\")"
   ]
  },
  {
   "attachments": {},
   "cell_type": "markdown",
   "metadata": {},
   "source": [
    "โครงสร้างควบคุม แบบ ทำซ้ำ  for, while"
   ]
  },
  {
   "attachments": {},
   "cell_type": "markdown",
   "metadata": {},
   "source": [
    "for : รู้ช่วงการวน\n",
    "while : เงื่อนไข\n"
   ]
  },
  {
   "attachments": {},
   "cell_type": "raw",
   "metadata": {},
   "source": [
    "for var in sequence:\n",
    "    statement"
   ]
  },
  {
   "cell_type": "code",
   "execution_count": 17,
   "metadata": {},
   "outputs": [
    {
     "data": {
      "text/plain": [
       "500"
      ]
     },
     "execution_count": 17,
     "metadata": {},
     "output_type": "execute_result"
    }
   ],
   "source": [
    "count = 0\n",
    "for i in  range(0, 10):\n",
    "    for o in range(0, 10):   \n",
    "        for p in range(5):\n",
    "            count += 1\n",
    "\n",
    "count"
   ]
  },
  {
   "cell_type": "code",
   "execution_count": 19,
   "metadata": {},
   "outputs": [
    {
     "name": "stdout",
     "output_type": "stream",
     "text": [
      "3 x  1 =  3\n",
      "3 x  2 =  6\n",
      "3 x  3 =  9\n",
      "3 x  4 = 12\n",
      "3 x  5 = 15\n",
      "3 x  6 = 18\n",
      "3 x  7 = 21\n",
      "3 x  8 = 24\n",
      "3 x  9 = 27\n",
      "3 x 10 = 30\n",
      "3 x 11 = 33\n",
      "3 x 12 = 36\n"
     ]
    }
   ],
   "source": [
    "n = 3\n",
    "for i in range(1, 13):\n",
    "    print(f\"{n} x {i:>2} = {n*i:>2}\")"
   ]
  },
  {
   "cell_type": "code",
   "execution_count": 24,
   "metadata": {},
   "outputs": [
    {
     "name": "stdout",
     "output_type": "stream",
     "text": [
      "Max : 9 min : 1 average : 5.88\n"
     ]
    }
   ],
   "source": [
    "numberA = [1, 5, 8, 7, 9, 6, 4, 7]\n",
    "max_var = min_var = numberA[0]\n",
    "sum_var = 0\n",
    "for i in numberA:\n",
    "    if max_var < i:\n",
    "        max_var = i\n",
    "    elif min_var > i:\n",
    "        min_var = i\n",
    "    \n",
    "    sum_var += i\n",
    "    \n",
    "print(f\"Max : {max_var} min : {min_var} average : {(sum_var / len(numberA)):.2f}\")"
   ]
  },
  {
   "cell_type": "code",
   "execution_count": 34,
   "metadata": {},
   "outputs": [
    {
     "name": "stdout",
     "output_type": "stream",
     "text": [
      "0\n",
      "2\n",
      "4\n",
      "6\n",
      "8\n"
     ]
    },
    {
     "data": {
      "text/plain": [
       "15"
      ]
     },
     "execution_count": 34,
     "metadata": {},
     "output_type": "execute_result"
    }
   ],
   "source": [
    "\"\"\"\n",
    "while test_expression:\n",
    "    statement\n",
    "\n",
    "\"\"\"\n",
    "re = 0\n",
    "counter = 0\n",
    "while counter < 10:\n",
    "    \n",
    "    print(counter)\n",
    "    re += 3\n",
    "    counter += 2\n",
    "    \n",
    "    \n",
    "   \n",
    "\n",
    "counter \n",
    "re\n",
    "    "
   ]
  },
  {
   "cell_type": "code",
   "execution_count": 37,
   "metadata": {},
   "outputs": [],
   "source": [
    "for i in range(5):\n",
    "    while True:\n",
    "        var = input(\">>> \")\n",
    "        if var == 'q':\n",
    "            break"
   ]
  },
  {
   "cell_type": "code",
   "execution_count": null,
   "metadata": {},
   "outputs": [],
   "source": []
  }
 ],
 "metadata": {
  "kernelspec": {
   "display_name": "Python 3",
   "language": "python",
   "name": "python3"
  },
  "language_info": {
   "codemirror_mode": {
    "name": "ipython",
    "version": 3
   },
   "file_extension": ".py",
   "mimetype": "text/x-python",
   "name": "python",
   "nbconvert_exporter": "python",
   "pygments_lexer": "ipython3",
   "version": "3.10.4"
  },
  "orig_nbformat": 4,
  "vscode": {
   "interpreter": {
    "hash": "a42ccb73e7d9bfdf27e036f1d2b8b681e55fc0743cc5586bc2474d4a60f4b886"
   }
  }
 },
 "nbformat": 4,
 "nbformat_minor": 2
}
