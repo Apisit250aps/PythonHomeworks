{
 "cells": [
  {
   "cell_type": "code",
   "execution_count": 42,
   "metadata": {},
   "outputs": [],
   "source": [
    "user = {\n",
    "    \"name\":\"Apisit Saithong\",\n",
    "    \"balance\":13530\n",
    "}\n",
    "\n",
    "\n"
   ]
  },
  {
   "cell_type": "code",
   "execution_count": 43,
   "metadata": {},
   "outputs": [
    {
     "name": "stdout",
     "output_type": "stream",
     "text": [
      "__________________ATM___________________\n",
      "1000                x               9 ใบ\n",
      "500                 x               1 ใบ\n",
      "100                 x               0 ใบ\n",
      "........................................\n",
      "total                               9500\n",
      "balance                             4030\n"
     ]
    }
   ],
   "source": [
    "money = int(input(\"Money : \"))\n",
    "_1000 = 0\n",
    "_500 = 0\n",
    "_100 = 0\n",
    "\n",
    "if money > user['balance']:\n",
    "    print(\"Sorry! Not enough money in the ATM \")\n",
    "else :\n",
    "    if money >= 1000:\n",
    "        _1000 = money//1000\n",
    "        money = money % 1000\n",
    "    if money >= 500:\n",
    "        _500 = money//500\n",
    "        money = money % 500\n",
    "    if money >= 100:\n",
    "        _100 = money//100\n",
    "        money = money % 100 \n",
    "        \n",
    "    bank =  (_1000 * 1000) + (_500 * 500) + (_100 * 100)\n",
    "    \n",
    "    bill = \"{0:_^40}\\n{1:<20}x {2:>15} ใบ\\n{3:<20}x {4:>15} ใบ\\n{5:<20}x {6:>15} ใบ\\n{12:.^40}\\n{7:<20}{8:>20}\\n{9:<20}{10:>20}\".format(\"ATM\", \"1000\", _1000, \"500\", _500, \"100\", _100, 'total', bank, \"balance\", (user['balance']-bank), user['name'], '')\n",
    "    print(bill)\n",
    "    \n",
    "    \n",
    "    \n"
   ]
  }
 ],
 "metadata": {
  "kernelspec": {
   "display_name": "Python 3.10.4 64-bit",
   "language": "python",
   "name": "python3"
  },
  "language_info": {
   "codemirror_mode": {
    "name": "ipython",
    "version": 3
   },
   "file_extension": ".py",
   "mimetype": "text/x-python",
   "name": "python",
   "nbconvert_exporter": "python",
   "pygments_lexer": "ipython3",
   "version": "3.10.4"
  },
  "orig_nbformat": 4,
  "vscode": {
   "interpreter": {
    "hash": "a42ccb73e7d9bfdf27e036f1d2b8b681e55fc0743cc5586bc2474d4a60f4b886"
   }
  }
 },
 "nbformat": 4,
 "nbformat_minor": 2
}
