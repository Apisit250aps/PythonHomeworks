{
 "cells": [
  {
   "cell_type": "markdown",
   "metadata": {},
   "source": [
    "# แบบฝึกหัด บทที่ 7 โครงสร้างควบคุม"
   ]
  },
  {
   "attachments": {},
   "cell_type": "markdown",
   "metadata": {},
   "source": [
    "นาย อภิสิทธิ์ สายทอง 6512732111"
   ]
  },
  {
   "cell_type": "markdown",
   "metadata": {},
   "source": [
    "## 1.\tจงเขียนโปรแกรมเพื่อให้ได้ผลลัพธ์ดังต่อไปนี้\n",
    "\n",
    "เพื่อให้ผู้ใช้ป้อนเลขจำนวนเต็ม 3 ค่า ประกอบไปด้วย : (f)rom, (t)o และ (i)ncrement \n",
    "\n",
    "โดยโปรแกรมรับค่าทั้ง 3 เข้ามาเพื่อทำการคำนวณเพื่อสร้างเลขลำดับโดยเริ่มต้นจาก f ไปจนถึง t \n",
    "\n",
    "และจะเพิ่มจำนวนตามค่า i เช่นถ้า input เป็น f == 2, t == 26 และ i == 4 โปรแกรมจะแสดงผล: 2, 6, 10, 14, 18, 22, 26"
   ]
  },
  {
   "cell_type": "code",
   "execution_count": 59,
   "metadata": {},
   "outputs": [
    {
     "name": "stdout",
     "output_type": "stream",
     "text": [
      "2 6 10 14 18 22 26 "
     ]
    }
   ],
   "source": [
    "f = int(input(\"Start : \"))\n",
    "t = int(input(\"Stop : \"))\n",
    "i = int(input(\"Step : \"))\n",
    "\n",
    "\n",
    "numA = f\n",
    "    \n",
    "while True:\n",
    "    print(numA, end=\" \")\n",
    "    numA += i\n",
    "    if numA > t:\n",
    "        break\n",
    "    \n",
    "    \n",
    "    "
   ]
  },
  {
   "cell_type": "markdown",
   "metadata": {},
   "source": [
    "## 2.จงเขียนโปรแกรมเพื่อให้ได้ผลลัพธ์ดังต่อไปนี้\n",
    "\n",
    "จงเขียนโปรแกรมเพื่อหาจำนวนแฟกทอเรียล (Factorial) โดยใช้การวนซ้ำ \n",
    "\n",
    "โดยกำหนดให้ผู้ใช้ป้อนค่าจำนวนเต็ม 1 ตัวและนำค่านั้นมาหาค่าแฟกทอเรียล เช่น input = 5 \n",
    "\n",
    "โปรแกรมจะทำการคำนวณ 5 * 4 * 3 * 2 * 1 เท่ากับ 12"
   ]
  },
  {
   "cell_type": "code",
   "execution_count": 60,
   "metadata": {},
   "outputs": [
    {
     "name": "stdout",
     "output_type": "stream",
     "text": [
      "5! = 120\n"
     ]
    }
   ],
   "source": [
    "var = int(input())\n",
    "facts = 1\n",
    "for i in range(var, 0, -1):\n",
    "    facts *= i\n",
    "print(f\"{var}! = {facts}\")\n"
   ]
  },
  {
   "cell_type": "code",
   "execution_count": 61,
   "metadata": {},
   "outputs": [
    {
     "name": "stdout",
     "output_type": "stream",
     "text": [
      "5! = 120\n"
     ]
    }
   ],
   "source": [
    "from math import * \n",
    "n = int(input())\n",
    "print(f\"{n}! = {factorial(n)}\")"
   ]
  },
  {
   "cell_type": "markdown",
   "metadata": {},
   "source": [
    "## 3.จงเขียนโปรแกรมเพื่อให้ได้ผลลัพธ์ดังต่อไปนี้\n",
    "\n",
    "ทำเขียนโปรแกรมโดยใช้การทำงานวนซ้ำ เพื่อค้นหาจำนวนเฉพาะที่อยู่ในช่วงตัวเลข 1 จนถึง 100 \n",
    "\n",
    "และทำการแสดงผลจำนวนเฉพาะทั้งหมดที่ค้นพบในช่วงตัวเลขออกมาทางหน้าจอ"
   ]
  },
  {
   "cell_type": "code",
   "execution_count": 58,
   "metadata": {},
   "outputs": [
    {
     "name": "stdout",
     "output_type": "stream",
     "text": [
      "1 is not Prime number!\n",
      "2 is Prime number!\n",
      "3 is Prime number!\n",
      "4 is not Prime number!\n",
      "5 is Prime number!\n",
      "6 is not Prime number!\n",
      "7 is Prime number!\n",
      "8 is not Prime number!\n",
      "9 is not Prime number!\n",
      "10 is not Prime number!\n",
      "11 is Prime number!\n",
      "12 is not Prime number!\n",
      "13 is Prime number!\n",
      "14 is not Prime number!\n",
      "15 is not Prime number!\n",
      "16 is not Prime number!\n",
      "17 is Prime number!\n",
      "18 is not Prime number!\n",
      "19 is Prime number!\n",
      "20 is not Prime number!\n",
      "21 is not Prime number!\n",
      "22 is not Prime number!\n",
      "23 is Prime number!\n",
      "24 is not Prime number!\n",
      "25 is not Prime number!\n",
      "26 is not Prime number!\n",
      "27 is not Prime number!\n",
      "28 is not Prime number!\n",
      "29 is Prime number!\n",
      "30 is not Prime number!\n",
      "31 is Prime number!\n",
      "32 is not Prime number!\n",
      "33 is not Prime number!\n",
      "34 is not Prime number!\n",
      "35 is not Prime number!\n",
      "36 is not Prime number!\n",
      "37 is Prime number!\n",
      "38 is not Prime number!\n",
      "39 is not Prime number!\n",
      "40 is not Prime number!\n",
      "41 is Prime number!\n",
      "42 is not Prime number!\n",
      "43 is Prime number!\n",
      "44 is not Prime number!\n",
      "45 is not Prime number!\n",
      "46 is not Prime number!\n",
      "47 is Prime number!\n",
      "48 is not Prime number!\n",
      "49 is not Prime number!\n",
      "50 is not Prime number!\n",
      "51 is not Prime number!\n",
      "52 is not Prime number!\n",
      "53 is Prime number!\n",
      "54 is not Prime number!\n",
      "55 is not Prime number!\n",
      "56 is not Prime number!\n",
      "57 is not Prime number!\n",
      "58 is not Prime number!\n",
      "59 is Prime number!\n",
      "60 is not Prime number!\n",
      "61 is Prime number!\n",
      "62 is not Prime number!\n",
      "63 is not Prime number!\n",
      "64 is not Prime number!\n",
      "65 is not Prime number!\n",
      "66 is not Prime number!\n",
      "67 is Prime number!\n",
      "68 is not Prime number!\n",
      "69 is not Prime number!\n",
      "70 is not Prime number!\n",
      "71 is Prime number!\n",
      "72 is not Prime number!\n",
      "73 is Prime number!\n",
      "74 is not Prime number!\n",
      "75 is not Prime number!\n",
      "76 is not Prime number!\n",
      "77 is not Prime number!\n",
      "78 is not Prime number!\n",
      "79 is Prime number!\n",
      "80 is not Prime number!\n",
      "81 is not Prime number!\n",
      "82 is not Prime number!\n",
      "83 is Prime number!\n",
      "84 is not Prime number!\n",
      "85 is not Prime number!\n",
      "86 is not Prime number!\n",
      "87 is not Prime number!\n",
      "88 is not Prime number!\n",
      "89 is Prime number!\n",
      "90 is not Prime number!\n",
      "91 is not Prime number!\n",
      "92 is not Prime number!\n",
      "93 is not Prime number!\n",
      "94 is not Prime number!\n",
      "95 is not Prime number!\n",
      "96 is not Prime number!\n",
      "97 is Prime number!\n",
      "98 is not Prime number!\n",
      "99 is not Prime number!\n",
      "100 is not Prime number!\n"
     ]
    }
   ],
   "source": [
    "\"\"\"\n",
    "คำตอบ\n",
    "1. สร้างชุดตัวเลขในช่วง 1 - 100\n",
    "2. กำหนดตัวแปร flag ให้มีค่าเป็นจริง เพื่อใช้ตรวจสอบว่าค่า i เป็นจำนวนเฉพาะหรือไม่\n",
    "3. สร้างชุดตัวเลข j ที่อยู่ในช่วง 2 - i\n",
    "4. นำ i มา mod ด้วย j\n",
    "    - ถ้า i mod j ได้ลงตัว แสดงว่า i ไม่ใช่จำนวนเฉพาะ\n",
    "    - กำหนดให้ flag มีค่าเป็น เท็จ\n",
    "5. ทำการตรวจสอบ flag ถ้า flag ยังเป็นจริงอยู่แสดงว่า i เป็นจำนวนเฉพาะ\n",
    "\"\"\"\n",
    "flag = True\n",
    "for number in range(1, 100+1):\n",
    "\n",
    "    if number == 0 or number == 1 : flag = False\n",
    "\n",
    "    if flag :\n",
    "      for j in range( 2, number ):\n",
    "          if number % j == 0:\n",
    "            flag = False\n",
    "            break\n",
    "\n",
    "    if flag:\n",
    "      print(number,'is Prime number!')\n",
    "    else:\n",
    "      print(number,'is not Prime number!')\n",
    "    \n",
    "    flag = True;\n"
   ]
  },
  {
   "cell_type": "markdown",
   "metadata": {},
   "source": [
    "## 4.\tจงเขียนโปรแกรมเพื่อให้ได้ผลลัพธ์ดังต่อไปนี้ "
   ]
  },
  {
   "cell_type": "code",
   "execution_count": 46,
   "metadata": {},
   "outputs": [
    {
     "name": "stdout",
     "output_type": "stream",
     "text": [
      "\n",
      "* \n",
      "* * \n",
      "* * * \n",
      "* * * * \n",
      "* * * * * \n",
      "* * * * \n",
      "* * * \n",
      "* * \n",
      "* \n"
     ]
    }
   ],
   "source": [
    "\"\"\"\n",
    "* \n",
    "* * \n",
    "* * * \n",
    "* * * * \n",
    "* * * * * \n",
    "* * * * \n",
    "* * * \n",
    "* * \n",
    "*\n",
    "\"\"\"\n",
    "r = 5\n",
    "for i in range(r):\n",
    "    print(\"* \"*i)\n",
    "for i in range(r, 0, -1):\n",
    "    print(\"* \"*i)\n"
   ]
  },
  {
   "cell_type": "markdown",
   "metadata": {},
   "source": []
  },
  {
   "cell_type": "markdown",
   "metadata": {},
   "source": [
    "## 5. จงเขียนโปรแกรมเพื่อให้ได้ผลลัพธ์ดังต่อไปนี้ \n",
    "\n",
    "จงเขียนโปรแกรมที่พิมพ์ตัวเลขตั้งแต่ 1 ถึง 100 ยกเว้นตัวเลขที่หารด้วย 3 ลงตัว \n",
    "\n",
    "โดยให้ใช้คำสั่ง continue เช่น 1 2 4 5 7 8 10 11 … เป็นต้น"
   ]
  },
  {
   "cell_type": "code",
   "execution_count": 26,
   "metadata": {},
   "outputs": [
    {
     "name": "stdout",
     "output_type": "stream",
     "text": [
      "1 2 4 5 7 8 10 11 13 14 16 17 19 20 22 23 25 26 28 29 31 32 34 35 37 38 40 41 43 44 46 47 49 50 52 53 55 56 58 59 61 62 64 65 67 68 70 71 73 74 76 77 79 80 82 83 85 86 88 89 91 92 94 95 97 98 100 "
     ]
    }
   ],
   "source": [
    "for i in range(1, 101):\n",
    "    if i % 3 == 0:\n",
    "        continue\n",
    "    else :\n",
    "        print(i, end=\" \")"
   ]
  },
  {
   "cell_type": "markdown",
   "metadata": {},
   "source": [
    "## 6.จงเขียนโปรแกรมเพื่อให้ได้ผลลัพธ์ดังต่อไปนี้\n",
    "\n",
    "จงเขียนโปรแกรมที่แสดงเลขจำนวน 1 ถึง 50 โดยสำหรับเลขจำนวนใดที่หารด้วย 3 ลงตัวให้พิมพ์ Fizz \n",
    "\n",
    "และเลขจำนวนใดที่หารด้วย 5 ลงตัวให้พิมพ์ Buzz และเลขใดที่หารลงตัวทั้ง 3 และ 5 ให้พิมพ์ FizzBuzz "
   ]
  },
  {
   "cell_type": "code",
   "execution_count": 54,
   "metadata": {},
   "outputs": [
    {
     "name": "stdout",
     "output_type": "stream",
     "text": [
      "1\n",
      "2\n",
      "Fizz\n",
      "4\n",
      "Buzz\n",
      "Fizz\n",
      "7\n",
      "8\n",
      "Fizz\n",
      "Buzz\n",
      "11\n",
      "Fizz\n",
      "13\n",
      "14\n",
      "FizzBuzz\n",
      "16\n",
      "17\n",
      "Fizz\n",
      "19\n",
      "Buzz\n",
      "Fizz\n",
      "22\n",
      "23\n",
      "Fizz\n",
      "Buzz\n",
      "26\n",
      "Fizz\n",
      "28\n",
      "29\n",
      "FizzBuzz\n",
      "31\n",
      "32\n",
      "Fizz\n",
      "34\n",
      "Buzz\n",
      "Fizz\n",
      "37\n",
      "38\n",
      "Fizz\n",
      "Buzz\n",
      "41\n",
      "Fizz\n",
      "43\n",
      "44\n",
      "FizzBuzz\n",
      "46\n",
      "47\n",
      "Fizz\n",
      "49\n",
      "Buzz\n"
     ]
    }
   ],
   "source": [
    "\"\"\"\n",
    "เช่น\n",
    "\n",
    "1\n",
    "2\n",
    "Fizz\n",
    "4\n",
    "Buzz\n",
    "\n",
    "---------\n",
    "คำตอบ\n",
    "\"\"\"\n",
    "for i in range(1, 50+1):\n",
    "    if i % 15 == 0:\n",
    "        print(\"FizzBuzz\")\n",
    "    elif i % 3 == 0:\n",
    "        print(\"Fizz\")\n",
    "    elif i % 5 == 0:\n",
    "        print(\"Buzz\")\n",
    "    else :\n",
    "        print(i)"
   ]
  },
  {
   "cell_type": "markdown",
   "metadata": {},
   "source": [
    "## 7.จงเขียนโปรแกรมเพื่อให้ได้ผลลัพธ์ดังต่อไปนี้\n",
    "\n",
    "จงเขียนโปรแกรมเพื่อแสดงรูปแบบต่อไปนี้ โดยการรับค่าจำนวนสูงสุดจากผู้ใช้"
   ]
  },
  {
   "cell_type": "code",
   "execution_count": 29,
   "metadata": {},
   "outputs": [
    {
     "name": "stdout",
     "output_type": "stream",
     "text": [
      "\n",
      "1\n",
      "22\n",
      "333\n",
      "4444\n",
      "55555\n",
      "666666\n",
      "7777777\n",
      "88888888\n",
      "999999999\n"
     ]
    }
   ],
   "source": [
    "\"\"\"\n",
    "ป้อนเลข 9\n",
    "\n",
    "1\n",
    "22\n",
    "333\n",
    "4444\n",
    "55555\n",
    "666666\n",
    "7777777\n",
    "88888888\n",
    "999999999\n",
    "\n",
    "คำตอบ\n",
    "\"\"\"\n",
    "n = int(input(\"enter : \"))\n",
    "for i in range(n+1):\n",
    "    print(str(i)*i)\n"
   ]
  }
 ],
 "metadata": {
  "kernelspec": {
   "display_name": "Python 3",
   "language": "python",
   "name": "python3"
  },
  "language_info": {
   "codemirror_mode": {
    "name": "ipython",
    "version": 3
   },
   "file_extension": ".py",
   "mimetype": "text/x-python",
   "name": "python",
   "nbconvert_exporter": "python",
   "pygments_lexer": "ipython3",
   "version": "3.10.4 (tags/v3.10.4:9d38120, Mar 23 2022, 23:13:41) [MSC v.1929 64 bit (AMD64)]"
  },
  "vscode": {
   "interpreter": {
    "hash": "a42ccb73e7d9bfdf27e036f1d2b8b681e55fc0743cc5586bc2474d4a60f4b886"
   }
  }
 },
 "nbformat": 4,
 "nbformat_minor": 4
}
