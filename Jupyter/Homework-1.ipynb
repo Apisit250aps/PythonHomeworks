{
 "cells": [
  {
   "cell_type": "markdown",
   "metadata": {},
   "source": [
    "ใบงานที่ 1 : การส่งการบ้านผ่าน git "
   ]
  },
  {
   "cell_type": "raw",
   "metadata": {},
   "source": [
    "นายอภิสิทธิ์ สายทอง 6512732111"
   ]
  },
  {
   "cell_type": "code",
   "execution_count": 1,
   "metadata": {},
   "outputs": [
    {
     "name": "stdout",
     "output_type": "stream",
     "text": [
      "Hello World\n"
     ]
    }
   ],
   "source": [
    "print(\"Hello World\")"
   ]
  }
 ],
 "metadata": {
  "kernelspec": {
   "display_name": "Python 3.9.13 ('base')",
   "language": "python",
   "name": "python3"
  },
  "language_info": {
   "codemirror_mode": {
    "name": "ipython",
    "version": 3
   },
   "file_extension": ".py",
   "mimetype": "text/x-python",
   "name": "python",
   "nbconvert_exporter": "python",
   "pygments_lexer": "ipython3",
   "version": "3.9.13"
  },
  "orig_nbformat": 4,
  "vscode": {
   "interpreter": {
    "hash": "8dbfe8ea527ffa732f21a51919d6499f5cbcfb30e407fe9387ce931a37af0535"
   }
  }
 },
 "nbformat": 4,
 "nbformat_minor": 2
}
