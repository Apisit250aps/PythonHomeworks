{
 "cells": [
  {
   "cell_type": "markdown",
   "metadata": {},
   "source": [
    "ใบงานที่ 1 : การส่งการบ้านผ่าน git "
   ]
  },
  {
   "cell_type": "raw",
   "metadata": {},
   "source": [
    "นายอภิสิทธิ์ สายทอง 6512732111"
   ]
  },
  {
   "cell_type": "code",
   "execution_count": null,
   "metadata": {},
   "outputs": [
    {
     "ename": "",
     "evalue": "",
     "output_type": "error",
     "traceback": [
      "\u001b[1;31mRunning cells with 'Python 3.11.0 64-bit (microsoft store)' requires ipykernel package.\n",
      "\u001b[1;31mRun the following command to install 'ipykernel' into the Python environment. \n",
      "\u001b[1;31mCommand: 'c:/Users/COMCENTER_SSKRU/AppData/Local/Microsoft/WindowsApps/python3.11.exe -m pip install ipykernel -U --force-reinstall'"
     ]
    }
   ],
   "source": [
    "print(\"Hello World\")"
   ]
  }
 ],
 "metadata": {
  "kernelspec": {
   "display_name": "Python 3.11.0 64-bit (microsoft store)",
   "language": "python",
   "name": "python3"
  },
  "language_info": {
   "name": "python",
   "version": "3.11.0"
  },
  "orig_nbformat": 4,
  "vscode": {
   "interpreter": {
    "hash": "13854b52d216a7a2113767e62969a8f0acd10f8a05a7a3915ddb72b142a3470a"
   }
  }
 },
 "nbformat": 4,
 "nbformat_minor": 2
}
