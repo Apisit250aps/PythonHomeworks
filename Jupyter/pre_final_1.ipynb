{
 "cells": [
  {
   "cell_type": "markdown",
   "id": "b4cd3c02-e219-467d-adec-0d0a11d9e29e",
   "metadata": {},
   "source": [
    "# แบบฝึกหัดที่ 1 ก่อนสอบปลายภาค"
   ]
  },
  {
   "cell_type": "markdown",
   "id": "2948a9b0-c1d7-4eb5-8838-176acb70778c",
   "metadata": {},
   "source": [
    "### เรื่อง ทบทวนเนื้อหาการเขียนโปรแกรมด้วยภาษาไพทอนเบื้องต้น"
   ]
  },
  {
   "attachments": {},
   "cell_type": "markdown",
   "id": "52214a89-8cc2-4989-a334-22c91d155e91",
   "metadata": {},
   "source": [
    "นาย อภิสิทธิ์ สายทอง 6512732111"
   ]
  },
  {
   "cell_type": "markdown",
   "id": "be66bdec-8ff3-48b3-8f81-16887b231bf6",
   "metadata": {},
   "source": [
    "### จงแทนนิพจน์ทางคณิตศาสตร์เหล่านี้้ด้วยภาษาไพทอน"
   ]
  },
  {
   "cell_type": "markdown",
   "id": "f52fc4e7-4075-4953-af9b-23cb0761aa42",
   "metadata": {},
   "source": [
    "**ข้อที่ 1.** $ 7 \\times \\frac{5 + 6}{7 + \\frac{7}{8}} $"
   ]
  },
  {
   "cell_type": "code",
   "execution_count": 1,
   "id": "ae684192-9514-4bc3-adf4-f2527542b446",
   "metadata": {},
   "outputs": [
    {
     "data": {
      "text/plain": [
       "10.620689655172413"
      ]
     },
     "execution_count": 1,
     "metadata": {},
     "output_type": "execute_result"
    }
   ],
   "source": [
    "(7)*((5+6)/(7+(2/8)))\n"
   ]
  },
  {
   "cell_type": "markdown",
   "id": "ad7eab25-da54-49b4-8b7e-4e008c957f2c",
   "metadata": {},
   "source": [
    "<hr>"
   ]
  },
  {
   "cell_type": "markdown",
   "id": "bf31fe17-6a86-4b14-b1a4-119e656994d3",
   "metadata": {},
   "source": [
    "**ข้อที่ 2** $ \\sqrt[2]{\\left( 7 + 3 \\times 4 \\right)} $"
   ]
  },
  {
   "cell_type": "code",
   "execution_count": 3,
   "id": "f8e9bb53-b34a-4897-b01b-2c62e7191229",
   "metadata": {},
   "outputs": [
    {
     "data": {
      "text/plain": [
       "4.358898943540674"
      ]
     },
     "execution_count": 3,
     "metadata": {},
     "output_type": "execute_result"
    }
   ],
   "source": [
    "# คำตอบ\n",
    "from math import *\n",
    "\n",
    "sqrt((7+3*4))\n"
   ]
  },
  {
   "cell_type": "markdown",
   "id": "1e60345a-875c-460a-87d1-7659462f3919",
   "metadata": {},
   "source": [
    "<hr>"
   ]
  },
  {
   "cell_type": "markdown",
   "id": "7fd2caaa-e462-4ff5-ad81-dc761fc31caa",
   "metadata": {},
   "source": [
    "**ข้อที่ 3** $ \\frac{5 + 6^{2.5}}{\\sqrt[2]{3.5}} + 3^2 $"
   ]
  },
  {
   "cell_type": "code",
   "execution_count": 7,
   "id": "e4cf0da4-4b79-45e9-887b-3ddeef89a876",
   "metadata": {},
   "outputs": [
    {
     "data": {
      "text/plain": [
       "61.135064290974356"
      ]
     },
     "execution_count": 7,
     "metadata": {},
     "output_type": "execute_result"
    }
   ],
   "source": [
    "# คำตอบ\n",
    "\n",
    "(5+pow(6, 2.5)/sqrt(3.5))+pow(3, 2)\n"
   ]
  },
  {
   "cell_type": "markdown",
   "id": "7380cd6f-cdfd-4373-a313-f1d548c90893",
   "metadata": {},
   "source": [
    "<hr>"
   ]
  },
  {
   "cell_type": "markdown",
   "id": "5ed88a95-692d-4097-9124-0b882a274e89",
   "metadata": {},
   "source": [
    "**ข้อที่ 4** กำหนดให้ my_list = [1, 2, 3, 4, 5] \n",
    "\n",
    "จงเพิ่มค่าให้สมาชิกทุกตัวของลิสต์ในตัวแปร my_list อย่างละ 5 ด้วยเครื่องหมาย + และพิมพ์ตัวแปร my_list ออกหน้าจอ"
   ]
  },
  {
   "cell_type": "code",
   "execution_count": 19,
   "id": "4b3cdf62-47dd-432c-94d8-920877ed601f",
   "metadata": {},
   "outputs": [
    {
     "data": {
      "text/plain": [
       "[6, 7, 8, 9, 10]"
      ]
     },
     "execution_count": 19,
     "metadata": {},
     "output_type": "execute_result"
    }
   ],
   "source": [
    "# คำตอบ\n",
    "my_list = [1, 2, 3, 4, 5]\n",
    "\n",
    "[i+5 for i in my_list]\n"
   ]
  },
  {
   "cell_type": "markdown",
   "id": "04c4827d-d43b-46b6-b3f6-6bc1ca41d456",
   "metadata": {},
   "source": [
    "<hr>"
   ]
  },
  {
   "cell_type": "markdown",
   "id": "081469f7-a509-4adf-ab7e-99c1a8911544",
   "metadata": {},
   "source": [
    "**กำหนดให้ my_list = [10, 20, 30, 40, 50, 60, 70, 80, 90, 100]**"
   ]
  },
  {
   "cell_type": "markdown",
   "id": "bb579639-1d63-4d2a-9b74-b813d8b98986",
   "metadata": {},
   "source": [
    "**ข้อที่ 5** จงเลือกสมาชิกตัวที่ 3 จนถึงตัวที่ 7"
   ]
  },
  {
   "cell_type": "code",
   "execution_count": 24,
   "id": "e281249d-7687-479e-a122-f4d0fed7240f",
   "metadata": {},
   "outputs": [
    {
     "data": {
      "text/plain": [
       "[30, 40, 50, 60, 70]"
      ]
     },
     "execution_count": 24,
     "metadata": {},
     "output_type": "execute_result"
    }
   ],
   "source": [
    "# คำตอบ\n",
    "\n",
    "[10, 20, 30, 40, 50, 60, 70, 80, 90, 100][2:7]\n"
   ]
  },
  {
   "cell_type": "markdown",
   "id": "a50dbda6-a551-49e6-a784-6062c60de14f",
   "metadata": {},
   "source": [
    "**ข้อที่ 6** จงเลือกสมาชิกตัวที่ 2 จนถึงตัวที่ 5"
   ]
  },
  {
   "cell_type": "code",
   "execution_count": 25,
   "id": "4fd57dc3-5498-48ec-a80f-e5be91ce4640",
   "metadata": {},
   "outputs": [
    {
     "data": {
      "text/plain": [
       "[20, 30, 40, 50]"
      ]
     },
     "execution_count": 25,
     "metadata": {},
     "output_type": "execute_result"
    }
   ],
   "source": [
    "# คำตอบ\n",
    "[10, 20, 30, 40, 50, 60, 70, 80, 90, 100][1:5]\n"
   ]
  },
  {
   "cell_type": "markdown",
   "id": "67828813-a498-4478-956e-845b1f62ed4c",
   "metadata": {},
   "source": [
    "**ข้อที่ 7** จงเลือกสมาชิกตั้งแต่ตัวแรกจนถึงตัวที่ 8"
   ]
  },
  {
   "cell_type": "code",
   "execution_count": 26,
   "id": "129d32c4-7b44-435e-a92b-23e5feac1859",
   "metadata": {},
   "outputs": [
    {
     "data": {
      "text/plain": [
       "[10, 20, 30, 40, 50, 60, 70, 80]"
      ]
     },
     "execution_count": 26,
     "metadata": {},
     "output_type": "execute_result"
    }
   ],
   "source": [
    "# คำตอบ\n",
    "\n",
    "[10, 20, 30, 40, 50, 60, 70, 80, 90, 100][:8]\n"
   ]
  },
  {
   "cell_type": "markdown",
   "id": "79855b21-4fe5-4782-a539-d6dee869df79",
   "metadata": {},
   "source": [
    "<hr>"
   ]
  },
  {
   "cell_type": "markdown",
   "id": "3ba6d469-0fc6-4be2-ae54-e9a27ddff5ad",
   "metadata": {},
   "source": [
    "**ข้อที่ 8** จงวนลูปเพื่อแสดงสูตรคูณแม่ 3 ไล่ตั้งแต่  3×1  จนถึง  3×12  โดยจะได้ผลลัพธ์ดังนี้"
   ]
  },
  {
   "cell_type": "raw",
   "id": "e1006360-f7c1-4c05-911a-bf224af4e1c6",
   "metadata": {},
   "source": [
    "3 * 1 = 3\n",
    "3 * 2 = 6\n",
    "3 * 3 = 9\n",
    ":\n",
    ":\n",
    ":\n",
    "3 * 12 = 36"
   ]
  },
  {
   "cell_type": "code",
   "execution_count": 34,
   "id": "0cb5d448-e014-4b0a-902f-b49d43bddae7",
   "metadata": {},
   "outputs": [
    {
     "name": "stdout",
     "output_type": "stream",
     "text": [
      "3 x 1 = 3\n",
      "3 x 2 = 6\n",
      "3 x 3 = 9\n",
      "3 x 4 = 12\n",
      "3 x 5 = 15\n",
      "3 x 6 = 18\n",
      "3 x 7 = 21\n",
      "3 x 8 = 24\n",
      "3 x 9 = 27\n",
      "3 x 10 = 30\n",
      "3 x 11 = 33\n",
      "3 x 12 = 36\n"
     ]
    }
   ],
   "source": [
    "for i in range(1, 12+1):\n",
    "    print(f'{3} x {i} = {3*i}')\n"
   ]
  },
  {
   "cell_type": "markdown",
   "id": "9d459c25-7c17-4977-8d05-261ebadb2248",
   "metadata": {},
   "source": [
    "<hr>"
   ]
  },
  {
   "cell_type": "markdown",
   "id": "46c978fe-6fa5-4fdf-bf3c-aacf1220c120",
   "metadata": {},
   "source": [
    "**ข้อที่ 9** จงเขียนโปรแกรมเพื่อไล่แม่สูตรคูณจากแม่ 11 ถึงแม่ 15 โดยแต่ละแม่จะคูณกับตัวเลขตั้งแต่ 1 จนถึง 12"
   ]
  },
  {
   "cell_type": "code",
   "execution_count": 38,
   "id": "6dae5b1e-e315-4c27-b136-6334a99f908a",
   "metadata": {},
   "outputs": [
    {
     "name": "stdout",
     "output_type": "stream",
     "text": [
      "11 x 1 = 11 \n",
      "11 x 2 = 22 \n",
      "11 x 3 = 33 \n",
      "11 x 4 = 44 \n",
      "11 x 5 = 55 \n",
      "11 x 6 = 66 \n",
      "11 x 7 = 77 \n",
      "11 x 8 = 88 \n",
      "11 x 9 = 99 \n",
      "11 x 10 = 110 \n",
      "11 x 11 = 121 \n",
      "11 x 12 = 132 \n",
      "\n",
      "12 x 1 = 12 \n",
      "12 x 2 = 24 \n",
      "12 x 3 = 36 \n",
      "12 x 4 = 48 \n",
      "12 x 5 = 60 \n",
      "12 x 6 = 72 \n",
      "12 x 7 = 84 \n",
      "12 x 8 = 96 \n",
      "12 x 9 = 108 \n",
      "12 x 10 = 120 \n",
      "12 x 11 = 132 \n",
      "12 x 12 = 144 \n",
      "\n",
      "13 x 1 = 13 \n",
      "13 x 2 = 26 \n",
      "13 x 3 = 39 \n",
      "13 x 4 = 52 \n",
      "13 x 5 = 65 \n",
      "13 x 6 = 78 \n",
      "13 x 7 = 91 \n",
      "13 x 8 = 104 \n",
      "13 x 9 = 117 \n",
      "13 x 10 = 130 \n",
      "13 x 11 = 143 \n",
      "13 x 12 = 156 \n",
      "\n",
      "14 x 1 = 14 \n",
      "14 x 2 = 28 \n",
      "14 x 3 = 42 \n",
      "14 x 4 = 56 \n",
      "14 x 5 = 70 \n",
      "14 x 6 = 84 \n",
      "14 x 7 = 98 \n",
      "14 x 8 = 112 \n",
      "14 x 9 = 126 \n",
      "14 x 10 = 140 \n",
      "14 x 11 = 154 \n",
      "14 x 12 = 168 \n",
      "\n",
      "15 x 1 = 15 \n",
      "15 x 2 = 30 \n",
      "15 x 3 = 45 \n",
      "15 x 4 = 60 \n",
      "15 x 5 = 75 \n",
      "15 x 6 = 90 \n",
      "15 x 7 = 105 \n",
      "15 x 8 = 120 \n",
      "15 x 9 = 135 \n",
      "15 x 10 = 150 \n",
      "15 x 11 = 165 \n",
      "15 x 12 = 180 \n",
      "\n"
     ]
    }
   ],
   "source": [
    "for i in range(11, 16):\n",
    "    for o in range(1, 13):\n",
    "        print(f'{i} x {o} = {i*o} ')\n",
    "    print()\n"
   ]
  },
  {
   "cell_type": "markdown",
   "id": "59eeeeed-4359-4591-a137-3c82304d2541",
   "metadata": {},
   "source": [
    "<hr>"
   ]
  },
  {
   "cell_type": "markdown",
   "id": "55ee2850-c0d9-4a78-83fc-55f7f55f783b",
   "metadata": {},
   "source": [
    "**ข้อที่ 10** จงเขียนโปรแกรมเพื่อแสดงจัตุรัสตัวเลข 1 ถึง 9 โดยใช้ลูปซ้อนกัน 2 ลูป ซึ่งผลลัพธ์จะเป็นดังต่อไปนี้"
   ]
  },
  {
   "cell_type": "raw",
   "id": "2095e268-06af-4cf8-934a-afad8a5d000a",
   "metadata": {},
   "source": [
    "1 2 3\n",
    "4 5 6\n",
    "7 8 9"
   ]
  },
  {
   "cell_type": "code",
   "execution_count": 110,
   "id": "4a931ad9-f8e8-4643-b127-01194b81f0a6",
   "metadata": {},
   "outputs": [
    {
     "data": {
      "text/plain": [
       "array([[1, 2, 3],\n",
       "       [4, 5, 6],\n",
       "       [7, 8, 9]])"
      ]
     },
     "execution_count": 110,
     "metadata": {},
     "output_type": "execute_result"
    }
   ],
   "source": [
    "import numpy as np\n",
    "\n",
    "np.arange(1, 10).reshape(3,3)\n"
   ]
  },
  {
   "cell_type": "markdown",
   "id": "9959fdd7-5ea8-493a-a4d5-263fd067834e",
   "metadata": {},
   "source": [
    "<hr>"
   ]
  },
  {
   "cell_type": "markdown",
   "id": "55e4c0f5-4d9e-4f04-81b7-f86a816562a2",
   "metadata": {},
   "source": [
    "**ข้่อที่ 11** จงเขียนโปรแกรมเพื่อแสดงจัตุรัสตัวเลข 1 ถึง 27 โดยใช้ลูปซ้อนกัน 3 ลูป ซึ่งผลลัพธ์จะเป็นดังนี้"
   ]
  },
  {
   "cell_type": "raw",
   "id": "df04a6c4-a317-40b5-9dc1-12f56f5b6b07",
   "metadata": {},
   "source": [
    "1 2 3\n",
    "4 5 6\n",
    "7 8 9\n",
    "\n",
    "10 11 12\n",
    "13 14 15\n",
    "16 17 18\n",
    "\n",
    "19 20 21\n",
    "22 23 24\n",
    "25 26 27"
   ]
  },
  {
   "cell_type": "code",
   "execution_count": 15,
   "id": "42c24d42-f4ad-475c-87ca-a30640696a62",
   "metadata": {},
   "outputs": [],
   "source": [
    "# คำตอบ\n"
   ]
  },
  {
   "cell_type": "markdown",
   "id": "bb011ab0-a672-4fd8-af97-a39d341a57cb",
   "metadata": {},
   "source": [
    "<hr>"
   ]
  },
  {
   "cell_type": "code",
   "execution_count": null,
   "id": "d0d4b649-9dde-4caa-9582-66cd12ac25d4",
   "metadata": {},
   "outputs": [],
   "source": []
  }
 ],
 "metadata": {
  "kernelspec": {
   "display_name": "Python 3 (ipykernel)",
   "language": "python",
   "name": "python3"
  },
  "language_info": {
   "codemirror_mode": {
    "name": "ipython",
    "version": 3
   },
   "file_extension": ".py",
   "mimetype": "text/x-python",
   "name": "python",
   "nbconvert_exporter": "python",
   "pygments_lexer": "ipython3",
   "version": "3.9.12"
  }
 },
 "nbformat": 4,
 "nbformat_minor": 5
}
