{
 "cells": [
  {
   "cell_type": "markdown",
   "id": "b4cd3c02-e219-467d-adec-0d0a11d9e29e",
   "metadata": {},
   "source": [
    "# แบบฝึกหัดที่ 2 ก่อนสอบปลายภาค"
   ]
  },
  {
   "cell_type": "markdown",
   "id": "2948a9b0-c1d7-4eb5-8838-176acb70778c",
   "metadata": {},
   "source": [
    "### เรื่อง ทบทวนเนื้อหาการเขียนโปรแกรมด้วยภาษาไพทอนเบื้องต้น"
   ]
  },
  {
   "attachments": {},
   "cell_type": "markdown",
   "id": "52214a89-8cc2-4989-a334-22c91d155e91",
   "metadata": {},
   "source": [
    "นายอภิสิทธิ์ สายทอง 6512732111"
   ]
  },
  {
   "cell_type": "markdown",
   "id": "be66bdec-8ff3-48b3-8f81-16887b231bf6",
   "metadata": {},
   "source": [
    "### Functions"
   ]
  },
  {
   "cell_type": "markdown",
   "id": "f52fc4e7-4075-4953-af9b-23cb0761aa42",
   "metadata": {},
   "source": [
    "**แบบฝึกหัดที่ 1** : สร้างฟังก์ชันที่ทำหน้ารับชุดข้องข้อความเข้ามาพร้อมทั้ง ทั้งแสดงข้อความนั้น และบอกจำนวนอักขระที่อยู่ใข้อความนั้นออกมาทางหน้าจอ"
   ]
  },
  {
   "cell_type": "raw",
   "id": "e6935aa6-00c1-4587-9f31-0f30f9e8476c",
   "metadata": {},
   "source": [
    "# ข้อความ \n",
    "f = 'The Shawshank Redemption'\n",
    "g = 'The Godfather'\n",
    "h = 'The Godfather: Part II'\n",
    "i = 'The Dark Knight'\n",
    "j = \"Schindler's List\"\n"
   ]
  },
  {
   "cell_type": "code",
   "execution_count": 21,
   "id": "ae684192-9514-4bc3-adf4-f2527542b446",
   "metadata": {},
   "outputs": [
    {
     "name": "stdout",
     "output_type": "stream",
     "text": [
      "The Shawshank Redemption | length 24\n",
      "The Godfather | length 13\n",
      "The Godfather: Part II | length 22\n",
      "The Dark Knight | length 15\n",
      "Schindler's List | length 16\n"
     ]
    }
   ],
   "source": [
    "# คำตอบ\n",
    "\n",
    "def textInfo(text):\n",
    "    return f'{text} | length {len(text)}'\n",
    "\n",
    "\n",
    "f = 'The Shawshank Redemption'\n",
    "g = 'The Godfather'\n",
    "h = 'The Godfather: Part II'\n",
    "i = 'The Dark Knight'\n",
    "j = \"Schindler's List\"\n",
    "\n",
    "dictText = {\n",
    "    'text1':f,\n",
    "    'text2':g,\n",
    "    'text3':h,\n",
    "    'text4':i,\n",
    "    'text5':j\n",
    "}\n",
    "\n",
    "for i in dictText.values():\n",
    "    print(textInfo(i))"
   ]
  },
  {
   "cell_type": "markdown",
   "id": "ad7eab25-da54-49b4-8b7e-4e008c957f2c",
   "metadata": {},
   "source": [
    "<hr>"
   ]
  },
  {
   "cell_type": "markdown",
   "id": "bf31fe17-6a86-4b14-b1a4-119e656994d3",
   "metadata": {},
   "source": [
    "**ข้อที่ 2** สร้างฟังก์ชันเพื่อนับจำนวนตัวลีเมอร์ ที่พบเห็นอยู่ภายใน List ว่าจะแต่ละสายพันธ์มีจำนวนเท่าใด"
   ]
  },
  {
   "cell_type": "code",
   "execution_count": 22,
   "id": "2bc3f576-7e48-4036-b3ce-e365c87b14f6",
   "metadata": {},
   "outputs": [],
   "source": [
    "lemurs = ['White-headed lemur', 'Gray-headed lemur', \n",
    "          'Common brown lemur', 'Collared brown lemur', \n",
    "          'Red lemur', 'Collared brown lemur', 'Red-fronted lemur', \n",
    "          'Red-bellied lemur', 'Collared brown lemur', 'Crowned lemur', \n",
    "          'Red lemur', 'Crowned lemur', 'Blue-eyed black lemur', \n",
    "          'Common brown lemur', 'Mongoose lemur', 'Common brown lemur', \n",
    "          \"Sanford's brown lemur\", 'White-headed lemur', 'Black lemur', \n",
    "          'Mongoose lemur', 'Red-bellied lemur', 'Red-fronted lemur', \n",
    "          'Blue-eyed black lemur', 'Collared brown lemur', \n",
    "          'Blue-eyed black lemur', 'White-headed lemur', 'Red lemur', \n",
    "          'Red-bellied lemur', 'Gray-headed lemur', 'Red-bellied lemur', \n",
    "          'Red lemur', 'Common brown lemur', 'Mongoose lemur', 'Red lemur', \n",
    "          'Common brown lemur', \"Sanford's brown lemur\"]"
   ]
  },
  {
   "cell_type": "code",
   "execution_count": 95,
   "id": "f8e9bb53-b34a-4897-b01b-2c62e7191229",
   "metadata": {},
   "outputs": [
    {
     "data": {
      "text/html": [
       "<div>\n",
       "<style scoped>\n",
       "    .dataframe tbody tr th:only-of-type {\n",
       "        vertical-align: middle;\n",
       "    }\n",
       "\n",
       "    .dataframe tbody tr th {\n",
       "        vertical-align: top;\n",
       "    }\n",
       "\n",
       "    .dataframe thead th {\n",
       "        text-align: right;\n",
       "    }\n",
       "</style>\n",
       "<table border=\"1\" class=\"dataframe\">\n",
       "  <thead>\n",
       "    <tr style=\"text-align: right;\">\n",
       "      <th></th>\n",
       "      <th>Name</th>\n",
       "      <th>Amount</th>\n",
       "    </tr>\n",
       "  </thead>\n",
       "  <tbody>\n",
       "    <tr>\n",
       "      <th>1</th>\n",
       "      <td>White-headed lemur</td>\n",
       "      <td>3</td>\n",
       "    </tr>\n",
       "    <tr>\n",
       "      <th>2</th>\n",
       "      <td>Gray-headed lemur</td>\n",
       "      <td>2</td>\n",
       "    </tr>\n",
       "    <tr>\n",
       "      <th>3</th>\n",
       "      <td>Common brown lemur</td>\n",
       "      <td>5</td>\n",
       "    </tr>\n",
       "    <tr>\n",
       "      <th>4</th>\n",
       "      <td>Collared brown lemur</td>\n",
       "      <td>4</td>\n",
       "    </tr>\n",
       "    <tr>\n",
       "      <th>5</th>\n",
       "      <td>Red lemur</td>\n",
       "      <td>5</td>\n",
       "    </tr>\n",
       "    <tr>\n",
       "      <th>6</th>\n",
       "      <td>Red-fronted lemur</td>\n",
       "      <td>2</td>\n",
       "    </tr>\n",
       "    <tr>\n",
       "      <th>7</th>\n",
       "      <td>Red-bellied lemur</td>\n",
       "      <td>4</td>\n",
       "    </tr>\n",
       "    <tr>\n",
       "      <th>8</th>\n",
       "      <td>Crowned lemur</td>\n",
       "      <td>2</td>\n",
       "    </tr>\n",
       "    <tr>\n",
       "      <th>9</th>\n",
       "      <td>Blue-eyed black lemur</td>\n",
       "      <td>3</td>\n",
       "    </tr>\n",
       "    <tr>\n",
       "      <th>10</th>\n",
       "      <td>Mongoose lemur</td>\n",
       "      <td>3</td>\n",
       "    </tr>\n",
       "    <tr>\n",
       "      <th>11</th>\n",
       "      <td>Sanford's brown lemur</td>\n",
       "      <td>2</td>\n",
       "    </tr>\n",
       "    <tr>\n",
       "      <th>12</th>\n",
       "      <td>Black lemur</td>\n",
       "      <td>1</td>\n",
       "    </tr>\n",
       "  </tbody>\n",
       "</table>\n",
       "</div>"
      ],
      "text/plain": [
       "                     Name Amount\n",
       "1      White-headed lemur      3\n",
       "2       Gray-headed lemur      2\n",
       "3      Common brown lemur      5\n",
       "4    Collared brown lemur      4\n",
       "5               Red lemur      5\n",
       "6       Red-fronted lemur      2\n",
       "7       Red-bellied lemur      4\n",
       "8           Crowned lemur      2\n",
       "9   Blue-eyed black lemur      3\n",
       "10         Mongoose lemur      3\n",
       "11  Sanford's brown lemur      2\n",
       "12            Black lemur      1"
      ]
     },
     "execution_count": 95,
     "metadata": {},
     "output_type": "execute_result"
    }
   ],
   "source": [
    "# คำตอบ\n",
    "# คำใบ้ ใช้ Dictionnary\n",
    "import pandas as pd \n",
    "import numpy as np\n",
    "def chooseLemurs(lemur):\n",
    "    lemur = {}\n",
    "    for i in lemurs:\n",
    "        if i in lemur:\n",
    "            lemur[i] += 1\n",
    "        else :\n",
    "            lemur[i] = 1\n",
    "    return lemur\n",
    "\n",
    "pd.DataFrame(np.array([i for i in chooseLemurs(lemurs).items()]), columns=['Name', 'Amount'], index=range(1, len(chooseLemurs(lemurs).items())+1))"
   ]
  },
  {
   "cell_type": "markdown",
   "id": "1e60345a-875c-460a-87d1-7659462f3919",
   "metadata": {},
   "source": [
    "<hr>"
   ]
  },
  {
   "cell_type": "markdown",
   "id": "7fd2caaa-e462-4ff5-ad81-dc761fc31caa",
   "metadata": {},
   "source": [
    "**ข้อที่ 3** เขียนฟังก์ชันเพื่อแยกชื่อ และนามสกุลออกจากัน พร้อมแสดงทางหน้าจอ"
   ]
  },
  {
   "cell_type": "code",
   "execution_count": 40,
   "id": "f313a283-8925-43c4-9b2b-d3e9ff437ed2",
   "metadata": {},
   "outputs": [],
   "source": [
    "full_names = ['Harry Potter', \n",
    "              'Hermione Granger', \n",
    "              'Ronald Weasley']"
   ]
  },
  {
   "cell_type": "code",
   "execution_count": 45,
   "id": "e4cf0da4-4b79-45e9-887b-3ddeef89a876",
   "metadata": {},
   "outputs": [
    {
     "name": "stdout",
     "output_type": "stream",
     "text": [
      "Harry Potter\n",
      "Hermione Granger\n",
      "Ronald Weasley\n"
     ]
    }
   ],
   "source": [
    "# คำตอบ\n",
    "\n",
    "def splitName(name:str):\n",
    "    newName = name.split(' ')\n",
    "    \n",
    "    return f'{newName[0]} {newName[1]}'\n",
    "\n",
    "for i in full_names:\n",
    "    print(splitName(i))"
   ]
  },
  {
   "cell_type": "markdown",
   "id": "7380cd6f-cdfd-4373-a313-f1d548c90893",
   "metadata": {},
   "source": [
    "<hr>"
   ]
  },
  {
   "cell_type": "markdown",
   "id": "5ed88a95-692d-4097-9124-0b882a274e89",
   "metadata": {},
   "source": [
    "**ข้อที่ 4** จงเขียน Function เพื่อนับจำนวน AT ที่อยู่ในสานอักขระ dna_seq"
   ]
  },
  {
   "cell_type": "code",
   "execution_count": 46,
   "id": "1148df21-280d-4bb7-9a6c-cfe1e2197dca",
   "metadata": {},
   "outputs": [],
   "source": [
    "dna_seq = 'ACGCGCAGATAGGACGCAGGGAGGGAGGAGGTTTTAGAAGAGGATAGACCCA'"
   ]
  },
  {
   "cell_type": "code",
   "execution_count": 91,
   "id": "4b3cdf62-47dd-432c-94d8-920877ed601f",
   "metadata": {},
   "outputs": [
    {
     "data": {
      "text/plain": [
       "23"
      ]
     },
     "execution_count": 91,
     "metadata": {},
     "output_type": "execute_result"
    }
   ],
   "source": [
    "# คำตอบ\n",
    "\n",
    "def fineAT(dna):\n",
    "    count = 0\n",
    "    for i in dna:\n",
    "        if (i == 'A' or i == 'T'):\n",
    "            count += 1\n",
    "    return count\n",
    "\n",
    "\n",
    "fineAT(dna_seq)\n"
   ]
  },
  {
   "cell_type": "markdown",
   "id": "04c4827d-d43b-46b6-b3f6-6bc1ca41d456",
   "metadata": {},
   "source": [
    "<hr>"
   ]
  },
  {
   "cell_type": "code",
   "execution_count": null,
   "id": "d0d4b649-9dde-4caa-9582-66cd12ac25d4",
   "metadata": {},
   "outputs": [],
   "source": []
  }
 ],
 "metadata": {
  "kernelspec": {
   "display_name": "Python 3",
   "language": "python",
   "name": "python3"
  },
  "language_info": {
   "codemirror_mode": {
    "name": "ipython",
    "version": 3
   },
   "file_extension": ".py",
   "mimetype": "text/x-python",
   "name": "python",
   "nbconvert_exporter": "python",
   "pygments_lexer": "ipython3",
   "version": "3.11.2"
  },
  "vscode": {
   "interpreter": {
    "hash": "0d56651bc252ddddf1a2889d4a6f47208b0884975868b8047cf56ced42fbf7ec"
   }
  }
 },
 "nbformat": 4,
 "nbformat_minor": 5
}
