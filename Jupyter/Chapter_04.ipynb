{
 "cells": [
  {
   "cell_type": "markdown",
   "metadata": {},
   "source": [
    "# แบบฝึกหัดบทที่ 4 พื้นฐานโปรแกรมไพธอน"
   ]
  },
  {
   "cell_type": "markdown",
   "metadata": {},
   "source": [
    "นาย อภิสิทธิ์ สายทอง 6512732111"
   ]
  },
  {
   "cell_type": "markdown",
   "metadata": {},
   "source": [
    "## 1. จงอธิบายความหมายของคำว่า Syntax"
   ]
  },
  {
   "cell_type": "markdown",
   "metadata": {},
   "source": [
    "คือจะอธิบายถึงโครงสร้าง และรูปแบบของภาษา ว่าจะสร้างโปรแกรมขึ้นได้อย่างไร หากเป็นในภาษาที่เราใช้สื่อสารกันทั่วไปก็เปรียบได้กับไวยากรณ์ของภาษา ซึ่งใช้เป็นกฎเกณฑ์ ในการสร้างประโยคขึ้นมา"
   ]
  },
  {
   "cell_type": "markdown",
   "metadata": {},
   "source": [
    "## 2.จงอธิบายความหมายของคำว่า Semantics"
   ]
  },
  {
   "cell_type": "markdown",
   "metadata": {},
   "source": [
    "การบรรยาย Syntax ของโปรแกรมมักจะง่ายกว่า Semantics ของโปรแกรม Semantics ของโปรแกรม  บ่งบอกความหมายในการทำงานของนิพจน์ ประโยค หรือ โปรแกรม\n",
    "\n"
   ]
  },
  {
   "cell_type": "markdown",
   "metadata": {},
   "source": [
    "## 3.Identifiers คืออะไร"
   ]
  },
  {
   "cell_type": "markdown",
   "metadata": {},
   "source": [
    "ตัวระบุ ความหมาย ป้ายหรือเครื่องหมายที่กำหนดให้แทนอุปกรณ์ ตัวแปร หรืออื่น ๆ ในชุดคำสั่ง\n",
    "\n"
   ]
  },
  {
   "cell_type": "markdown",
   "metadata": {},
   "source": [
    "## 4.คำสงวนในภาษาไพธอนคืออะไร และมีทั้งหมดกี่คำ"
   ]
  },
  {
   "cell_type": "markdown",
   "metadata": {},
   "source": [
    "คือ คำที่ซ้ำกับคำสั่งของภาษา python มี 31 คำ\n",
    "and, as, assert, break, class, continue, def, del, elif, else, except, exec, finally, for, from, global, if, import, in, is, lambda, not, or, pass, print, raise, return, try, while, with, yield \n",
    "\n"
   ]
  },
  {
   "cell_type": "markdown",
   "metadata": {},
   "source": [
    "## 5.จงเขียนโปรแกรมไพธอนเพื่อรับข้อมูล ที่เป็นชื่อผู้ใช้งานจากแป้นพิมพ์และแสดงออกทางหน้าจอ"
   ]
  },
  {
   "cell_type": "code",
   "execution_count": 4,
   "metadata": {},
   "outputs": [
    {
     "name": "stdout",
     "output_type": "stream",
     "text": [
      "My name is apisit\n"
     ]
    }
   ],
   "source": [
    "name = str(input(\"Enter your name : \"))\n",
    "print(f\"My name is {name}\")"
   ]
  },
  {
   "cell_type": "markdown",
   "metadata": {},
   "source": [
    "## 6.จงเขียนโปรแกรมเพื่อแสดงค่าของ pi คือ 3.14159 ออกทางหน้าจอโดยทำการกำหนดรูปแบบในการแสดงผลดังต่อไปนี้\n",
    "\n",
    "- pi = 3\n",
    "- pi = 3.14\n",
    "- pi = 3.1416\n"
   ]
  },
  {
   "cell_type": "code",
   "execution_count": 10,
   "metadata": {},
   "outputs": [
    {
     "name": "stdout",
     "output_type": "stream",
     "text": [
      "\n",
      "    1 - PI = 3\n",
      "    2 - PI = 3.14\n",
      "    3 - PI = 3.1416\n"
     ]
    }
   ],
   "source": [
    "PI = 3.14159\n",
    "\n",
    "print(f\"\"\"\n",
    "    1 - PI = {PI:.0f}\n",
    "    2 - PI = {PI:.2f}\n",
    "    3 - PI = {PI:.4f}\"\"\")\n"
   ]
  },
  {
   "cell_type": "markdown",
   "metadata": {},
   "source": []
  },
  {
   "cell_type": "markdown",
   "metadata": {},
   "source": [
    "## 7.\tจงเขียนโปรแกรมที่แสดงคำว่า \"dog\", \"cat\", \"bat\" ออกทางหน้าจอ โดยกำหนดรูปแบบในการแสดงดังต่อไปนี้"
   ]
  },
  {
   "cell_type": "code",
   "execution_count": 15,
   "metadata": {},
   "outputs": [],
   "source": [
    "\"\"\" \n",
    "|dog       |   cat    |       bat| \n",
    "\"\"\""
   ]
  },
  {
   "cell_type": "code",
   "execution_count": 3,
   "metadata": {},
   "outputs": [
    {
     "name": "stdout",
     "output_type": "stream",
     "text": [
      "|dog       |   cat    |       bat|\n"
     ]
    }
   ],
   "source": [
    "print(\"|{0:<10}|{1:^10}|{2:>10}|\".format(\"dog\", \"cat\", \"bat\"))\n",
    "\n"
   ]
  },
  {
   "cell_type": "markdown",
   "metadata": {},
   "source": [
    "## 8.\tจงเขียนโปรแกรมที่แสดงคำว่า \"dog\", \"cat\", \"bat\" ออกทางหน้าจอ โดยกำหนดรูปแบบในการแสดงดังต่อไปนี้"
   ]
  },
  {
   "cell_type": "code",
   "execution_count": null,
   "metadata": {},
   "outputs": [],
   "source": [
    "\"\"\" \n",
    "|dog*******|***cat****|*******bat| \n",
    "\"\"\""
   ]
  },
  {
   "cell_type": "code",
   "execution_count": 5,
   "metadata": {},
   "outputs": [
    {
     "name": "stdout",
     "output_type": "stream",
     "text": [
      "|dog*******|***cat****|*******bat|\n"
     ]
    }
   ],
   "source": [
    "print(\"|{0:*<10}|{1:*^10}|{2:*>10}|\".format(\"dog\", \"cat\", \"bat\"))\n",
    "\n"
   ]
  },
  {
   "cell_type": "code",
   "execution_count": null,
   "metadata": {},
   "outputs": [],
   "source": []
  }
 ],
 "metadata": {
  "kernelspec": {
   "display_name": "Python 3.10.4 64-bit",
   "language": "python",
   "name": "python3"
  },
  "language_info": {
   "codemirror_mode": {
    "name": "ipython",
    "version": 3
   },
   "file_extension": ".py",
   "mimetype": "text/x-python",
   "name": "python",
   "nbconvert_exporter": "python",
   "pygments_lexer": "ipython3",
   "version": "3.10.4"
  },
  "vscode": {
   "interpreter": {
    "hash": "a42ccb73e7d9bfdf27e036f1d2b8b681e55fc0743cc5586bc2474d4a60f4b886"
   }
  }
 },
 "nbformat": 4,
 "nbformat_minor": 4
}
