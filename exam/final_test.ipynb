{
 "cells": [
  {
   "cell_type": "markdown",
   "id": "b4cd3c02-e219-467d-adec-0d0a11d9e29e",
   "metadata": {},
   "source": [
    "# ข้อสอบปลายภาค"
   ]
  },
  {
   "cell_type": "markdown",
   "id": "2948a9b0-c1d7-4eb5-8838-176acb70778c",
   "metadata": {},
   "source": [
    "### รายวิชา การเขียนโปรแกรมเชิงวัตถุ ปีการ 2/2565"
   ]
  },
  {
   "attachments": {},
   "cell_type": "markdown",
   "id": "52214a89-8cc2-4989-a334-22c91d155e91",
   "metadata": {},
   "source": [
    "ชื่อ อภิสิทธิ์ นามสกุล สายทอง รหัสนักศึกษา 6512732111"
   ]
  },
  {
   "cell_type": "markdown",
   "id": "f52fc4e7-4075-4953-af9b-23cb0761aa42",
   "metadata": {},
   "source": [
    "**ข้อสอบข้อที่ 1** : จงเขียนโปรแกรม เพื่อคํานวณ หาภาษีมูลค่าเพิ่มของบริการ โดยให้มีการทำงานดังนี้ คือ รับราคาบริการ จากนั้นคำนวณหาค่าบริการที่รวมภาษีมูลค่าเพิ่มแล้ว และทำการแสดงผลดังตัวอย่าง"
   ]
  },
  {
   "cell_type": "raw",
   "id": "e6935aa6-00c1-4587-9f31-0f30f9e8476c",
   "metadata": {},
   "source": [
    "# ตัวอย่างการทำงาน 1\n",
    "\n",
    "Enter Service Price : 1000\n",
    "\n",
    "Service Price\n",
    "Price : 1000\n",
    "Vat : 70\n",
    "Total Price : 1070\n",
    " \n",
    "Thank you.\n",
    "\n",
    "# ตัวอย่างการทำงาน 2\n",
    "\n",
    "Enter Service Price : 500\n",
    "\n",
    "Service Price\n",
    "Price : 500\n",
    "Vat : 35\n",
    "Total Price : 535\n",
    " \n",
    "\n",
    "Thank you."
   ]
  },
  {
   "cell_type": "markdown",
   "id": "4c3e85e3-9f1f-4034-9c92-d49f603ca6cd",
   "metadata": {},
   "source": [
    "ข้อมูลเพิ่มเติม\n",
    "\n",
    "1) สามารถหาภาษีมูลค่าเพิ่ม (Vat) ได้จากสูตร ราคาสินค้า * ( 7  / 100 )\n",
    "2) ราคารวมภาษีมูลค่าเพิ่ม หาได้จากสูตร ราคาสินค้า + Vat ที่หาได้"
   ]
  },
  {
   "cell_type": "code",
   "execution_count": 64,
   "id": "ae684192-9514-4bc3-adf4-f2527542b446",
   "metadata": {},
   "outputs": [
    {
     "name": "stdout",
     "output_type": "stream",
     "text": [
      "Service Price\n",
      "Price           :     1000.0฿\n",
      "Vat             :       70.0฿\n",
      "Total Price     :     1070.0฿\n",
      "__________thank you___________\n"
     ]
    }
   ],
   "source": [
    "price = float(input(\"Enter Service Price : \"))\n",
    "print(f'Service Price\\n{\"Price\":<15} : {price:>10}฿\\n{\"Vat\":<15} : {(price/100)*7:>10}฿\\n{\"Total Price\":<15} : {price+(price/100*7):>10}฿\\n{\"thank you\":_^30}')\n"
   ]
  },
  {
   "cell_type": "markdown",
   "id": "ad7eab25-da54-49b4-8b7e-4e008c957f2c",
   "metadata": {},
   "source": [
    "<hr>"
   ]
  },
  {
   "cell_type": "markdown",
   "id": "bf31fe17-6a86-4b14-b1a4-119e656994d3",
   "metadata": {},
   "source": [
    "**ข้อสอบข้อที่ 2** โปรแกรมตัดเกรด\n",
    "\n",
    "จงออกแบบโปรแกรมด้วยภาษา C++ โดยให้มีการทำงานดังต่อไปนี้\n",
    "1) โปรแกรมสามารถ รับข้อมูลคะแนนของนักเรียนที่มีค่าระหว่าง 0 - 100 จำนวน 5 คน\n",
    "2) ทำการ หาเกรด จากเกณฑ์คะแนนต่อไปนี้ <br>\n",
    "    90 - 100 ได้เกรด A <br>\n",
    "    80 - 89 ได้เกรด B <br>\n",
    "    70 - 79 ได้เกรด C <br>\n",
    "    50 - 69 ได้เกรด D<br>\n",
    "    0 - 49 ได้เกรด E<br>\n",
    "3) แสดงผลข้อมูลตามรูปแบบตัวอย่าง"
   ]
  },
  {
   "cell_type": "raw",
   "id": "3ce623d5-2895-47d6-a605-2571b46cd04f",
   "metadata": {},
   "source": [
    "ตัวอย่างหน้าการแสดงผลของโปรแกรม\n",
    "\n",
    "Calculate Grade Program\n",
    "Enter Score Student 1 : 91\n",
    "Enter Score Student 2 : 81\n",
    "Enter Score Student 3 : 71\n",
    "Enter Score Student 4 : 61\n",
    "Enter Score Student 5 : 41\n",
    "\n",
    "Show Student Grade\n",
    "Student 1 \n",
    "     Score 91 Grade A\n",
    "Student 2 \n",
    "     Score 81 Grade B\n",
    "Student 3 \n",
    "     Score 71 Grade C\n",
    "Student 4 \n",
    "     Score 61 Grade D\n",
    "Student 5 \n",
    "     Score 41 Grade F\n",
    "\n",
    "Thank You...\n",
    "\n",
    "หมายเหตุ : ตัวหนังสือ สีเขียว คือ Input ตัวหนังสือ สีน้ำตาล คือ คำค่าในตัวแปร Output มาแสดง "
   ]
  },
  {
   "cell_type": "code",
   "execution_count": 61,
   "id": "f8e9bb53-b34a-4897-b01b-2c62e7191229",
   "metadata": {},
   "outputs": [
    {
     "data": {
      "text/html": [
       "<div>\n",
       "<style scoped>\n",
       "    .dataframe tbody tr th:only-of-type {\n",
       "        vertical-align: middle;\n",
       "    }\n",
       "\n",
       "    .dataframe tbody tr th {\n",
       "        vertical-align: top;\n",
       "    }\n",
       "\n",
       "    .dataframe thead th {\n",
       "        text-align: right;\n",
       "    }\n",
       "</style>\n",
       "<table border=\"1\" class=\"dataframe\">\n",
       "  <thead>\n",
       "    <tr style=\"text-align: right;\">\n",
       "      <th></th>\n",
       "      <th>Name</th>\n",
       "      <th>Score</th>\n",
       "      <th>Grade</th>\n",
       "    </tr>\n",
       "  </thead>\n",
       "  <tbody>\n",
       "    <tr>\n",
       "      <th>0</th>\n",
       "      <td>Student 1</td>\n",
       "      <td>78</td>\n",
       "      <td>C</td>\n",
       "    </tr>\n",
       "    <tr>\n",
       "      <th>1</th>\n",
       "      <td>Student 2</td>\n",
       "      <td>93</td>\n",
       "      <td>A</td>\n",
       "    </tr>\n",
       "    <tr>\n",
       "      <th>2</th>\n",
       "      <td>Student 3</td>\n",
       "      <td>100</td>\n",
       "      <td>A</td>\n",
       "    </tr>\n",
       "    <tr>\n",
       "      <th>3</th>\n",
       "      <td>Student 4</td>\n",
       "      <td>70</td>\n",
       "      <td>C</td>\n",
       "    </tr>\n",
       "    <tr>\n",
       "      <th>4</th>\n",
       "      <td>Student 5</td>\n",
       "      <td>84</td>\n",
       "      <td>B</td>\n",
       "    </tr>\n",
       "  </tbody>\n",
       "</table>\n",
       "</div>"
      ],
      "text/plain": [
       "        Name  Score Grade\n",
       "0  Student 1     78     C\n",
       "1  Student 2     93     A\n",
       "2  Student 3    100     A\n",
       "3  Student 4     70     C\n",
       "4  Student 5     84     B"
      ]
     },
     "execution_count": 61,
     "metadata": {},
     "output_type": "execute_result"
    }
   ],
   "source": [
    "# คำตอบ\n",
    "\n",
    "import pandas as pd\n",
    "import numpy as np\n",
    "import random as rd\n",
    "\n",
    "std = {\n",
    "    \"Student 1\": rd.randint(45, 100),\n",
    "    \"Student 2\": rd.randint(45, 100),\n",
    "    \"Student 3\": rd.randint(45, 100),\n",
    "    \"Student 4\": rd.randint(45, 100),\n",
    "    \"Student 5\": rd.randint(45, 100)\n",
    "}\n",
    "\n",
    "def Grade(data:dict):\n",
    "    value = {\n",
    "        \"Name\":[],\n",
    "        \"Score\":[],\n",
    "        \"Grade\":[]\n",
    "    }\n",
    "    \n",
    "    for std, sc in data.items():\n",
    "        if sc >= 90 :\n",
    "            value[\"Name\"].append(std)\n",
    "            value[\"Score\"].append(sc)\n",
    "            value['Grade'].append('A')\n",
    "        elif sc >= 80 :\n",
    "            value[\"Name\"].append(std)\n",
    "            value[\"Score\"].append(sc)\n",
    "            value['Grade'].append('B')\n",
    "        elif sc >= 70 :\n",
    "            value[\"Name\"].append(std)\n",
    "            value[\"Score\"].append(sc)\n",
    "            value['Grade'].append('C')\n",
    "        elif sc >= 50 :\n",
    "            value[\"Name\"].append(std)\n",
    "            value[\"Score\"].append(sc)\n",
    "            value['Grade'].append('D')\n",
    "        else :\n",
    "            value[\"Name\"].append(std)\n",
    "            value[\"Score\"].append(sc)\n",
    "            value['Grade'].append('E')\n",
    "        \n",
    "    return value\n",
    "        \n",
    "    \n",
    "pd.DataFrame(Grade(std))\n",
    "    "
   ]
  },
  {
   "cell_type": "markdown",
   "id": "1e60345a-875c-460a-87d1-7659462f3919",
   "metadata": {},
   "source": [
    "<hr>"
   ]
  },
  {
   "cell_type": "markdown",
   "id": "7fd2caaa-e462-4ff5-ad81-dc761fc31caa",
   "metadata": {},
   "source": [
    "**ข้อสอบข้อที่ 3** โปรแกรมคำนวนค่าเรียนพิเศษ\n",
    "\n",
    "จงเขียนโปรแกรมคำนวณค่าเรียนพิเศษของ ติวเตอร์คณิตศาสตร์ แห่งหนึ่ง โดย ติวเตอร์แห่งนี้ คิดค่าเรียนเป็นรายชั่วโมง \n",
    "\n",
    "ชั่วโมงละ 450 บาท และจ่ายเป็นแบบครั้งต่อครั้ง \n",
    "\n",
    "โดยให้โปรแกรมมีการรับค่าจำนวนช่วงโมงที่สอน และมีรูปแบบการทำงานและแสดงผลตามตัวอย่างต่อไปนี้"
   ]
  },
  {
   "cell_type": "raw",
   "id": "eb75bb60-28d2-4d8a-a9d1-d25cf474a081",
   "metadata": {},
   "source": [
    "ตัวอย่างการทำงาน ครั้งที่ 1\n",
    "\n",
    "RUN : ทดสอบด้วยการป้อนจำนวนชั่วโมงที่เรียนเป็น 5 ชั่วโมง\n",
    "\n",
    "Enter Hour : 5\n",
    "Total : 2250\n",
    "\n",
    "ตัวอย่างการทำงาน ครั้งที่ 2\n",
    "\n",
    "RUN : ทดสอบด้วยการป้อนจำนวนชั่วโมงที่เรียนเป็น 1 ชั่วโมง\n",
    "\n",
    "Enter Hour : 1\n",
    "Total : 450"
   ]
  },
  {
   "cell_type": "code",
   "execution_count": 71,
   "id": "e4cf0da4-4b79-45e9-887b-3ddeef89a876",
   "metadata": {},
   "outputs": [
    {
     "name": "stdout",
     "output_type": "stream",
     "text": [
      "Hour : 5.5\n",
      "Total : 2700฿\n"
     ]
    }
   ],
   "source": [
    "# คำตอบ\n",
    "from math import *\n",
    "\n",
    "Hour = float(input(\"Enter Hour :\"))\n",
    "\n",
    "print(f\"Hour : {Hour}\\nTotal : {ceil((Hour))*450}฿\")\n"
   ]
  },
  {
   "cell_type": "markdown",
   "id": "7380cd6f-cdfd-4373-a313-f1d548c90893",
   "metadata": {},
   "source": [
    "<hr>"
   ]
  },
  {
   "cell_type": "markdown",
   "id": "dcb8bdbc-a331-4168-a1bf-eb22df35f774",
   "metadata": {},
   "source": [
    "**ข้อให้ทุกคนโชคดีในการสอบ**<br>\n",
    "ผู้ช่วยศาสตราจารย์พิศาล สุขขี<br>\n",
    "สาขาวิทยาการคอมพิวเตอร์<br>\n",
    "มหาวิทยาลัยราชภัฏศรีสะเกษ"
   ]
  },
  {
   "cell_type": "code",
   "execution_count": null,
   "id": "ec9541b1-39c7-43bb-be34-acbd738293fd",
   "metadata": {},
   "outputs": [],
   "source": []
  }
 ],
 "metadata": {
  "kernelspec": {
   "display_name": "Python 3 (ipykernel)",
   "language": "python",
   "name": "python3"
  },
  "language_info": {
   "codemirror_mode": {
    "name": "ipython",
    "version": 3
   },
   "file_extension": ".py",
   "mimetype": "text/x-python",
   "name": "python",
   "nbconvert_exporter": "python",
   "pygments_lexer": "ipython3",
   "version": "3.11.2"
  }
 },
 "nbformat": 4,
 "nbformat_minor": 5
}
