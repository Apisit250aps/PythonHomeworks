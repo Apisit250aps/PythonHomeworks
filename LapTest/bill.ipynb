{
 "cells": [
  {
   "cell_type": "markdown",
   "metadata": {},
   "source": [
    "การแสดงใบเสร็จ PythonCafe'"
   ]
  },
  {
   "cell_type": "code",
   "execution_count": 3,
   "metadata": {},
   "outputs": [],
   "source": [
    "global menuList\n",
    "menuList = [[\"Coffee\", 45], [\"Mocha\", 50], [\"Cappuccino\", 50], [\"Black Coffee\", 75], [\"Milk\", 25], [\"Beer\", 50]]\n",
    "\n"
   ]
  },
  {
   "cell_type": "code",
   "execution_count": 5,
   "metadata": {},
   "outputs": [
    {
     "name": "stdout",
     "output_type": "stream",
     "text": [
      "...............Python CAFE'...............\n",
      "MENU                               PRICE\n",
      "------------------------------------------\n",
      "Coffee                                45 ฿\n",
      "Mocha                                 50 ฿\n",
      "Cappuccino                            50 ฿\n",
      "Black Coffee                          75 ฿\n",
      "Milk                                  25 ฿\n",
      "Beer                                  50 ฿\n",
      "==========================================\n",
      "TOTAL                                295 ฿\n"
     ]
    }
   ],
   "source": [
    "print(\"{0:.^42}\".format(\"Python CAFE'\"))\n",
    "print(\"{0:<20}{1:>20}\".format(\"MENU\", \"PRICE\"))\n",
    "print('-'*42)\n",
    "total = 0\n",
    "for i in range(len(menuList)):\n",
    "    total+=menuList[i][1]\n",
    "    print(f\"{menuList[i][0]:<20}{menuList[i][1]:>20} ฿\")\n",
    "print(\"=\"*42)    \n",
    "print(\"{0:<20}{1:>20} ฿\".format(\"TOTAL\", total))\n"
   ]
  }
 ],
 "metadata": {
  "kernelspec": {
   "display_name": "Python 3.10.4 64-bit",
   "language": "python",
   "name": "python3"
  },
  "language_info": {
   "codemirror_mode": {
    "name": "ipython",
    "version": 3
   },
   "file_extension": ".py",
   "mimetype": "text/x-python",
   "name": "python",
   "nbconvert_exporter": "python",
   "pygments_lexer": "ipython3",
   "version": "3.10.4"
  },
  "orig_nbformat": 4,
  "vscode": {
   "interpreter": {
    "hash": "a42ccb73e7d9bfdf27e036f1d2b8b681e55fc0743cc5586bc2474d4a60f4b886"
   }
  }
 },
 "nbformat": 4,
 "nbformat_minor": 2
}
